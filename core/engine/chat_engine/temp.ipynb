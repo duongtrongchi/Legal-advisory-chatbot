{
 "cells": [
  {
   "cell_type": "code",
   "execution_count": 2,
   "metadata": {},
   "outputs": [],
   "source": [
    "import logging\n",
    "import sys\n",
    "import os\n",
    "\n",
    "import tiktoken\n",
    "import openai\n",
    "from dotenv import load_dotenv\n",
    "load_dotenv()\n",
    "\n",
    "\n",
    "from llama_index import ServiceContext, LLMPredictor, OpenAIEmbedding, PromptHelper\n",
    "from llama_index.llms import OpenAI\n",
    "from llama_index.text_splitter import TokenTextSplitter\n",
    "from llama_index.node_parser import SimpleNodeParser\n",
    "from llama_index import VectorStoreIndex, SimpleDirectoryReader\n",
    "from llama_index.vector_stores import ElasticsearchStore\n",
    "from llama_index.storage.storage_context import StorageContext\n",
    "\n",
    "\n",
    "from prompts import base_prompt_template\n",
    "\n"
   ]
  },
  {
   "cell_type": "code",
   "execution_count": 4,
   "metadata": {},
   "outputs": [],
   "source": [
    "documents = SimpleDirectoryReader(\"../../data/\").load_data()\n",
    "\n",
    "\n",
    "node_parser = SimpleNodeParser.from_defaults(\n",
    "  separator=\" \",\n",
    "  chunk_size=1024,\n",
    "  chunk_overlap=20,\n",
    "  tokenizer=tiktoken.encoding_for_model(\"gpt-3.5-turbo\").encode\n",
    "\n",
    ")\n",
    "\n",
    "llm = OpenAI(model='gpt-3.5-turbo', temperature=0.7, max_tokens=256)\n",
    "embed_model = OpenAIEmbedding()\n",
    "\n",
    "prompt_helper = PromptHelper(\n",
    "  context_window=4096,\n",
    "  num_output=256,\n",
    "  chunk_overlap_ratio=0.1,\n",
    "  chunk_size_limit=None\n",
    ")\n",
    "\n",
    "\n",
    "vector_store = ElasticsearchStore(\n",
    "    es_url=\"http://localhost:9200\",\n",
    "    index_name=\"simple_rag\",\n",
    ")\n",
    "storage_context = StorageContext.from_defaults(vector_store=vector_store)\n",
    "\n",
    "service_context = ServiceContext.from_defaults(\n",
    "  llm=llm,\n",
    "  embed_model=embed_model,\n",
    "  node_parser=node_parser,\n",
    "  prompt_helper=prompt_helper\n",
    ")\n"
   ]
  },
  {
   "cell_type": "code",
   "execution_count": 5,
   "metadata": {},
   "outputs": [],
   "source": [
    "index = VectorStoreIndex.from_documents(\n",
    "    documents,\n",
    "    service_context=service_context,\n",
    "    storage_context=storage_context,\n",
    ")"
   ]
  },
  {
   "cell_type": "code",
   "execution_count": 6,
   "metadata": {},
   "outputs": [
    {
     "name": "stdout",
     "output_type": "stream",
     "text": [
      "Trường Đại học Tôn Đức Thắng hiện có tổng cộng năm cơ sở chính tại bốn thành phố khác nhau, bao gồm:\n",
      "1. TP. Hồ Chí Minh\n",
      "2. Nha Trang\n",
      "3. Bảo Lộc\n",
      "4. Cà Mau.\n"
     ]
    }
   ],
   "source": [
    "query_engine = index.as_query_engine(text_qa_template=base_prompt_template)\n",
    "response = query_engine.query(\"Cho tôi biết đại học Tôn Đức Thắng có bao nhiêu cơ sở chính và đó là cơ sở nào?\")\n",
    "print(response)"
   ]
  }
 ],
 "metadata": {
  "kernelspec": {
   "display_name": "law_rag",
   "language": "python",
   "name": "python3"
  },
  "language_info": {
   "codemirror_mode": {
    "name": "ipython",
    "version": 3
   },
   "file_extension": ".py",
   "mimetype": "text/x-python",
   "name": "python",
   "nbconvert_exporter": "python",
   "pygments_lexer": "ipython3",
   "version": "3.9.18"
  }
 },
 "nbformat": 4,
 "nbformat_minor": 2
}
