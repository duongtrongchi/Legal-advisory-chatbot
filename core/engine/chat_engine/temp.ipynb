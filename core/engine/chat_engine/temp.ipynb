{
 "cells": [
  {
   "cell_type": "code",
   "execution_count": 1,
   "metadata": {},
   "outputs": [],
   "source": [
    "import openai\n",
    "import os\n",
    "import IPython\n",
    "from dotenv import load_dotenv\n",
    "load_dotenv()\n",
    "openai.api_key = os.getenv(\"OPENAI_API_KEY\")"
   ]
  },
  {
   "cell_type": "code",
   "execution_count": 20,
   "metadata": {},
   "outputs": [],
   "source": [
    "\n",
    "\n",
    "def intent_classification(ques):\n",
    "    PROMPT = '''\n",
    "    Bạn là một người phân loại câu hỏi chuyên nghiệp. Nhiệm vụ của bạn là khi tôi cung cấp cho bạn một câu hỏi được kí hiệu bằng thẻ <QUES> bạn hãy phân loại cho tôi câu hỏi này thuộc vào\n",
    "    chủ đề nào trong 3 chủ đề sau: Chào hỏi, hỏi đáp pháp luật, các chủ đề khác.\n",
    "\n",
    "    # Quy tắc trả lời: Khi bạn trả lời cho tôi hãy cho tôi biết nội dung câu hỏi mà tôi sẽ đưa cho bạn thuộc vào chủ đề nào và trả lời bằng các label tương ứng. Nếu nội dung câu hỏi thuộc\n",
    "    về chủ đề chào hỏi hãy trả lời là 1, nếu nội dung câu hỏi thuộc về chủ đề pháp luật hãy trả lời là 2 và nếu nội dung câu hỏi thuộc về chủ đề khác hãy trả lời là 3.\n",
    "\n",
    "    # Định dạng trả lời: Định dạng trả lời mà bạn đưa cho tôi sẽ có dạng là một dictionary với key có tên là response và value là nhãn mà bạn đã phân loại. Giống ví dụ sau: {\"response\": 1}\n",
    "\n",
    "\n",
    "    Sau đây là câu hỏi mà tôi cung cấp cho bạn:\n",
    "    <QUES>=```{ques}```\n",
    "    '''\n",
    "\n",
    "    response = openai.chat.completions.create(\n",
    "        model=\"gpt-3.5-turbo\",\n",
    "        messages=[\n",
    "            {\"role\": \"user\", \"content\": PROMPT},\n",
    "        ],\n",
    "        temperature=0,\n",
    "    )\n",
    "\n",
    "\n",
    "    return response.choices[0].message.content\n",
    "\n"
   ]
  },
  {
   "cell_type": "code",
   "execution_count": 22,
   "metadata": {},
   "outputs": [
    {
     "name": "stdout",
     "output_type": "stream",
     "text": [
      "{'response': 3}\n"
     ]
    }
   ],
   "source": [
    "import json\n",
    "\n",
    "print(json.loads(intent_classification(ques=\"Chào bạn\")))"
   ]
  }
 ],
 "metadata": {
  "kernelspec": {
   "display_name": "law_rag",
   "language": "python",
   "name": "python3"
  },
  "language_info": {
   "codemirror_mode": {
    "name": "ipython",
    "version": 3
   },
   "file_extension": ".py",
   "mimetype": "text/x-python",
   "name": "python",
   "nbconvert_exporter": "python",
   "pygments_lexer": "ipython3",
   "version": "3.9.18"
  }
 },
 "nbformat": 4,
 "nbformat_minor": 2
}
