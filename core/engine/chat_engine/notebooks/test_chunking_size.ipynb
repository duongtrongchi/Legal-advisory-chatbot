{
 "cells": [
  {
   "cell_type": "code",
   "execution_count": 1,
   "metadata": {},
   "outputs": [],
   "source": [
    "from dotenv import load_dotenv\n",
    "\n",
    "import openai\n",
    "import os\n",
    "load_dotenv()\n",
    "\n",
    "import logging\n",
    "import sys\n",
    "import os\n",
    "\n",
    "import numexpr as ne\n",
    "\n",
    "logging.basicConfig(stream=sys.stdout, level=logging.INFO)\n",
    "logging.getLogger().addHandler(logging.StreamHandler(stream=sys.stdout))\n",
    "openai.api_key = os.getenv('OPENAI_API_KEY')\n",
    "\n",
    "\n",
    "os.environ['NUMEXPR_MAX_THREADS'] = '4'\n",
    "os.environ['NUMEXPR_NUM_THREADS'] = '2'"
   ]
  },
  {
   "cell_type": "code",
   "execution_count": 2,
   "metadata": {},
   "outputs": [
    {
     "name": "stdout",
     "output_type": "stream",
     "text": [
      "INFO:llama_index.indices.loading:Loading all indices.\n",
      "Loading all indices.\n",
      "loading from disk\n"
     ]
    }
   ],
   "source": [
    "from llama_index import (\n",
    "    VectorStoreIndex,\n",
    "    SimpleDirectoryReader,\n",
    "    StorageContext,\n",
    "    load_index_from_storage,\n",
    ")\n",
    "from llama_index.prompts import PromptTemplate\n",
    "\n",
    "try:\n",
    "    storage_context = StorageContext.from_defaults(persist_dir='../assets/test_store/')\n",
    "    index = load_index_from_storage(storage_context)\n",
    "    print('loading from disk')\n",
    "except:\n",
    "    documents = SimpleDirectoryReader('../assets/AndrewHuberman/medical').load_data()\n",
    "    index = VectorStoreIndex.from_documents(documents)\n",
    "    index.storage_context.persist(persist_dir='../storage/cache/andrew/medical/')\n",
    "    print('persisting to disk')"
   ]
  },
  {
   "cell_type": "code",
   "execution_count": 3,
   "metadata": {},
   "outputs": [],
   "source": [
    "openai.log = \"debug\"\n",
    "\n",
    "text_qa_template_str = (\n",
    "    \"Bạn là trợ lý của Andrew Huberman, người có thể đọc các ghi chú podcast của Andrew Huberman.\\n\"\n",
    "    \"Luôn trả lời truy vấn chỉ bằng cách sử dụng thông tin ngữ cảnh được cung cấp, \"\n",
    "    \"chứ không phải kiến ​​thức sẵn có.\\n\"\n",
    "    \"Một số quy tắc cần tuân theo:\\n\"\n",
    "    \"1. Không bao giờ tham khảo trực tiếp bối cảnh nhất định trong câu trả lời của bạn.\\n\"\n",
    "    \"2. Tránh những câu như 'Dựa trên ngữ cảnh, ...' hoặc \"\n",
    "    \"'Thông tin ngữ cảnh ...' hoặc bất cứ điều gì cùng\"\n",
    "    \"những dòng đó.\"\n",
    "    \"Thông tin bối cảnh dưới đây.\\n\"\n",
    "    \"---------------------\\n\"\n",
    "    \"{context_str}\\n\"\n",
    "    \"---------------------\\n\"\n",
    "    \"Trả lời câu hỏi:{query_str}\\n\"\n",
    ")\n",
    "\n",
    "text_qa_template = PromptTemplate(text_qa_template_str)"
   ]
  },
  {
   "cell_type": "code",
   "execution_count": 4,
   "metadata": {},
   "outputs": [
    {
     "name": "stderr",
     "output_type": "stream",
     "text": [
      "Some weights of MPNetForSequenceClassification were not initialized from the model checkpoint at sentence-transformers/all-mpnet-base-v2 and are newly initialized: ['classifier.out_proj.weight', 'classifier.out_proj.bias', 'classifier.dense.bias', 'classifier.dense.weight']\n",
      "You should probably TRAIN this model on a down-stream task to be able to use it for predictions and inference.\n"
     ]
    },
    {
     "name": "stdout",
     "output_type": "stream",
     "text": [
      "INFO:sentence_transformers.cross_encoder.CrossEncoder:Use pytorch device: cpu\n",
      "Use pytorch device: cpu\n"
     ]
    }
   ],
   "source": [
    "from llama_index.postprocessor import SentenceTransformerRerank\n",
    "\n",
    "\n",
    "rerank = SentenceTransformerRerank(\n",
    "    model=\"sentence-transformers/all-mpnet-base-v2\",\n",
    "    top_n=5\n",
    ")"
   ]
  },
  {
   "cell_type": "code",
   "execution_count": 18,
   "metadata": {},
   "outputs": [],
   "source": [
    "from llama_index import ServiceContext\n",
    "service_context = ServiceContext.from_defaults(\n",
    "    chunk_size=50,\n",
    "    chunk_overlap=3\n",
    ")"
   ]
  },
  {
   "cell_type": "code",
   "execution_count": 19,
   "metadata": {},
   "outputs": [],
   "source": [
    "from time import time\n",
    "\n",
    "query_engine = index.as_query_engine(\n",
    "    similarity_top_k=10,\n",
    "    # node_postprocessors=[rerank],\n",
    "    service_context=service_context,\n",
    "    text_qa_template = text_qa_template,\n",
    ")"
   ]
  },
  {
   "cell_type": "code",
   "execution_count": 20,
   "metadata": {},
   "outputs": [
    {
     "name": "stdout",
     "output_type": "stream",
     "text": [
      "INFO:httpx:HTTP Request: POST https://api.openai.com/v1/embeddings \"HTTP/1.1 200 OK\"\n",
      "HTTP Request: POST https://api.openai.com/v1/embeddings \"HTTP/1.1 200 OK\"\n",
      "INFO:httpx:HTTP Request: POST https://api.openai.com/v1/chat/completions \"HTTP/1.1 200 OK\"\n",
      "HTTP Request: POST https://api.openai.com/v1/chat/completions \"HTTP/1.1 200 OK\"\n",
      "INFO:httpx:HTTP Request: POST https://api.openai.com/v1/chat/completions \"HTTP/1.1 200 OK\"\n",
      "HTTP Request: POST https://api.openai.com/v1/chat/completions \"HTTP/1.1 200 OK\"\n",
      "INFO:httpx:HTTP Request: POST https://api.openai.com/v1/chat/completions \"HTTP/1.1 200 OK\"\n",
      "HTTP Request: POST https://api.openai.com/v1/chat/completions \"HTTP/1.1 200 OK\"\n",
      "Elapsed: 10.38s\n"
     ]
    }
   ],
   "source": [
    "now = time()\n",
    "response = query_engine.query(\n",
    "    \"ung thư dạ dày là bệnh gì?\",\n",
    ")\n",
    "print(f\"Elapsed: {round(time() - now, 2)}s\")"
   ]
  },
  {
   "cell_type": "code",
   "execution_count": 21,
   "metadata": {},
   "outputs": [
    {
     "name": "stdout",
     "output_type": "stream",
     "text": [
      "Ung thư dạ dày là một căn bệnh nguy hiểm trong hệ tiêu hóa, có tỷ lệ tử vong cao và là một trong những loại ung thư phổ biến nhất trên thế giới.\n"
     ]
    }
   ],
   "source": [
    "print(response)"
   ]
  },
  {
   "cell_type": "code",
   "execution_count": 22,
   "metadata": {},
   "outputs": [
    {
     "name": "stdout",
     "output_type": "stream",
     "text": [
      "score:  0.8744441134637128\n",
      "text:  Đặc biệt, nếu phát hiện muộn khi các tế bào ung thư đã di căn thì vô phương cứu chữa. Vì vậy, người dân nên nâng cao việc phòng chống bệnh ung thư dạ dày ngay từ sớm bằng cách.\n",
      "  Duy trì chế độ sinh hoạt, luyện tập, nghỉ ngơi khoa học.\n",
      " Duy trì chế độ dinh dưỡng lành mạnh với các thực phẩm giàu vitamin và chất xơ.\n",
      " Hạn chế ăn các thực phẩm giàu nitric và amin thứ cấp như dưa muối, cà muối, đồ ăn lên men, thịt hun khói, đồ nướng. Bởi vì khi đi vào dạ dày, các chất này sẽ kết hợp thành độc tố gây nguy cơ ung thư.\n",
      " Không hút thuốc lá, uống rượu, bia hoặc sử dụng chất kích thích.\n",
      " Hạn chế đồ ăn công nghiệp và nước ngọt đóng chai.\n",
      " Chủ động tầm soát ung thư dạ dày sớm đối với các trường hợp có yếu tố nguy cơ.\n",
      "   Mặc dù độ tuổi thường gặp \n",
      "<i>ung thư dạ dày\n",
      "</i> là từ 50 tuổi trở lên, nhưng những năm gần đây, căn bệnh này đang có xu hướng trẻ hóa và phổ biến cả ở những người dưới 40 tuổi. Tuy nhiên, nếu được phát hiện sớm từ giai đoạn khởi phát thì cơ hội điều trị thành công cao, tỷ lệ sống trên 5 năm đến 90%. Do đó, người dân nên nâng cao việc phòng ngừa và tầm soát \n",
      "<i>ung thư dạ dày\n",
      "</i> từ sớm để tránh những rủi ro đáng tiếc do căn bệnh nguy hiểm này gây ra.\n",
      " <iframe loading=\"lazy\" title=\"YouTube video player\" src=\"\" width=\"560\" height=\"315\" frameborder=\"0\" allowfullscreen=\"allowfullscreen\" class=\" lazyiframe\" data-src=\"https://www.youtube.com/embed/x9P9FGPD0NQ?rel=0\">\n",
      "</iframe> \n",
      "<h2><b>Bệnh viện Tâm Anh thăm khám, tầm soát và điều trị ung thư dạ dày toàn diện, triệt để</b>\n",
      "</h2> Tại Trung tâm Nội soi &amp; Phẫu thuật nội soi tiêu hóa, Bệnh viện Đa khoa Tâm Anh, đội ngũ chuyên gia, bác sĩ đầu ngành giỏi và tâm huyết với nghề, giàu kinh nghiệm, cùng với sự hỗ trợ của các loại máy móc, thiết bị kỹ thuật cao, hiện đại hàng đầu như: Hệ thống nội soi Fuji 7000, hệ thống phẫu thuật nội soi 3D/4K ICG Rubina Karl Storz, dụng cụ nội soi Robot&#8230; giúp phát hiện ung thư giai đoạn sớm,\n",
      " đem lại hiệu quả điều trị tối ưu, kéo dài sự sống cho người mắc \n",
      "ung thư dạ dày\n",
      ".\n",
      "====================================================================================================\n",
      "score:  0.8709043322012027\n",
      "text:  Người trong gia đình có thể thay phiên nhau ngồi bên cạnh trò chuyện với người bệnh. Không ngừng nắm tay và có những cử chỉ yêu thương, nhẹ nhàng để người bệnh cảm thấy ấm áp.\n",
      "<br /> \n",
      " Hãy giúp người bệnh giảm bớt các triệu chứng đau đớn bằng cách nhờ tới sự hỗ trợ của các nhân viên y tế. Họ có thể hướng dẫn bạn chăm sóc giảm nhẹ để giúp bệnh nhân dễ chịu hơn.\n",
      "   <em><strong>Xem thêm:</strong> Chăm sóc giảm nhẹ cho bệnh nhân ung thư: Mục tiêu và phương pháp.</em> <strong>Ung thư dạ dày</strong> là căn bệnh phổ biến, nguy hiểm nhất trong số các bệnh lý đường tiêu hóa. Tỷ lệ tử vong của ung thư dạ dày cao chỉ sau ung thư gan và ung thư phổi. Theo số liệu thống kê của Globocan, số ca mắc mới năm 2020 ở cả hai giới, mọi lứa tuổi là 1.089.103. Trong đó có 768.793 người đã qua đời vì ung thư dạ dày. (3)\n",
      " Ở Việt Nam, mỗi năm lại có 17.527 ca mắc mới ung thư dạ dày, trong đó có 6.366 ca ở nữ giới và 11.161 ca ở nam giới.\n",
      " Theo bác sĩ Hải, ung thư bắt đầu khi các tế bào bên trong dạ dày thay đổi/phát triển bất thường. Theo thời gian (vài tháng hoặc vài năm), chúng có thể tiến triển, tạo ra các tổn thương dạng loét hoặc sùi. Ung thư có thể ảnh hưởng đến bất kỳ vị trí nào của dạ dày nhưng phổ biến nhất là phần thân dạ dày và thực quản. Trong giai đoạn đầu hình thành khối u hầu như không thể phát hiện nếu không thực hiện tầm soát.\n",
      "====================================================================================================\n",
      "score:  0.8704459371012475\n",
      "text:  <h2><b>Bệnh ung thư dạ dày</b><b> có nguy hiểm không?</b>\n",
      "</h2> <i>Ung thư dạ dày\n",
      "</i> là một trong số những căn bệnh nguy hiểm nhất về đường tiêu hóa, có tỷ lệ tử vong cao chỉ sau ung thư phổi và ung thư gan. Mỗi năm Việt Nam lại có 17.527 ca mắc mới \n",
      "<i>ung thư dạ dày\n",
      "</i>, trong số đó, nam giới chiếm nhiều hơn với 11.161 ca và 6.366 ở nữ giới, theo thống kê của Globocan năm 2018.\n",
      "<h2><b><i>Ung thư dạ dày</i></b><b> có chữa được không?</b>\n",
      "</h2> Bác sĩ Trần Vương Thảo Nghi cho biết, nếu phát hiện muộn khi các tế bào ung thư dạ dày đã di căn vào các cơ quan khác trong cơ thể thì cơ hội sống của người bệnh rất thấp. Ngược lại, nếu được phát hiện sớm từ giai đoạn khởi phát thì cơ hội được chữa khỏi bệnh tới 90%.\n",
      " Do đó, việc đến cơ sở y tế để được bác sĩ thăm khám, hỏi bệnh sử và đánh giá các yếu tố nguy cơ có thể giúp chủ động \n",
      "tầm soát ung thư dạ dày. \n",
      "Việc phát hiện bệnh sớm và điều trị ngay từ giai đoạn đầu giúp tăng hiệu quả điều trị và giúp cải thiện thời gian sống của người bệnh.\n",
      " <em><strong>Xem thêm:</strong> Ung thư dạ dày sống được bao lâu? Tiên lượng từng giai đoạn.</em> \n",
      "<h2><b>Phương pháp </b><b>điều trị ung thư dạ dày</b>\n",
      "</h2> Sau khi chẩn đoán xác định bệnh và giai đoạn bệnh, bác sĩ có thể đưa ra các phương pháp điều trị cho người bệnh như sau:\n",
      "<h3><b>Phẫu thuật</b>\n",
      "</h3> Bác sĩ có thể cắt bỏ một phần hoặc toàn bộ dạ dày bị tổn thương kèm các hạch \n",
      "lympho xung quanh, tùy vào giai đoạn bệnh. Người bệnh có thể được bác sĩ chỉ định phẫu thuật bằng \n",
      "phương pháp mổ mở, phẫu thuật nội soi hoặc phẫu thuật robot.\n",
      "<i>Bác sĩ có thể cắt bỏ một phần hoặc toàn bộ dạ dày bị tổn thương kèm các hạch \n",
      "</i><i>lympho xung quanh, tùy vào giai đoạn bệnh.\n",
      "</i> \n",
      "<h3><b>Xạ trị</b>\n",
      "</h3> Xạ trị có thể được áp dụng hỗ trợ sau khi phẫu thuật nhằm làm giảm khả năng tái phát tại chỗ. Xạ trị cũng có thể được chỉ định trong một số trường hợp bệnh di căn đến xương, hạch… nhằm làm giảm nhẹ triệu chứng.\n",
      "====================================================================================================\n",
      "score:  0.8688845270320159\n",
      "text:  Ngược lại nếu phát hiện lúc các tế bào <strong>ung thư dạ dày đã di căn</strong> vào các cơ quan khác trong cơ thể, quá trình điều trị khó khăn hơn, tiên lượng sống dè dặt. Đặc biệt, \n",
      "<strong>ung thư dạ dày giai đoạn cuối</strong> chủ yếu chăm sóc giảm nhẹ giúp giảm đau đớn, nâng cao chất lượng sống cho người bệnh. Do đó, bác sĩ Hải nhấn mạnh, việc thăm khám sức khỏe định kỳ mỗi 6 tháng một lần hoặc ít nhất mỗi năm một lần; chủ động tầm soát ung thư dạ dày ở người có yếu tố nguy cơ và từ độ tuổi 40 có ý nghĩa quyết định trong việc phát hiện bệnh sớm và điều trị hiệu quả.\n",
      "====================================================================================================\n",
      "score:  0.8626561143299257\n",
      "text:  <b>Rối loạn dinh dưỡng do kém/không hấp thu: </b>Sụt cân đột ngột, không rõ lý do; Hoa mắt, chóng mặt; Mệt mỏi đến mức giảm khả năng lao động.\n",
      "<h2><b>Nguyên nhân gây ung thư dạ dày</b>\n",
      "</h2>  Nhiễm trùng do vi khuẩn H. pylori (một bệnh nhiễm trùng dạ dày phổ biến đôi khi có thể dẫn đến loét).\n",
      " Polyp dạ dày (sự phát triển bất thường của mô hình thành trên niêm mạc dạ dày).\n",
      " Bệnh viêm loét dạ dày tái đi tái lại, hoặc có tiền căn phẫu thuật các bệnh lý lành tính ở dạ dày.\n",
      " Người từ 50 tuổi trở lên.\n",
      " Đàn ông có nguy cơ mắc ung thư dạ dày cao hơn phụ nữ.\n",
      " Hút thuốc lá, uống rượu bia.\n",
      " Chế độ ăn có nhiều thực phẩm có chứa chất bảo quản, ăn nhiều thức ăn nướng hoặc xông khói/ ngâm muối, ăn ít rau củ quả như đồ ăn lên men, thực phẩm đóng hộp, thịt hun khói.\n",
      " Béo phì.\n",
      " Tiền sử gia đình mắc bệnh ung thư dạ dày và/ hoặc các hội chứng rối loạn về đường tiêu hóa khác.\n",
      " Người gốc Á (đặc biệt là Hàn Quốc hoặc Nhật Bản), Nam Mỹ hoặc Belarus: Có thể có liên quan đến thói quen ăn uống.\n",
      "Vi khuẩn H. pylori là thủ phạm nguy hiểm có nguy cơ gây viêm loét và ung thư dạ dày \n",
      "<h2><b>Các biện pháp chẩn đoán </b><b>bệnh ung thư dạ dày</b>\n",
      "</h2> <i>Bệnh ung thư dạ dày\n",
      "</i> giai đoạn đầu thường rất khó phát hiện vì có các triệu chứng giống như viêm dạ dày. Do đó, muốn phát hiện ung thư dạ dày sớm, người bệnh cần đến bệnh viện để được bác sĩ thăm khám và áp dụng các biện pháp chẩn đoán.\n",
      " Biện pháp chẩn đoán \n",
      "<i>ung thư dạ dày\n",
      "</i> thường được áp dụng tại bệnh viện bao gồm:\n",
      "<h3><b>Nội soi dạ dày</b>\n",
      "</h3> Bác sĩ sẽ dùng một ống mềm, dài, có gắn camera, đưa vào thực quản đi xuống dạ dày. Nếu phát hiện các tổn thương và/ hoặc các khối u nghi ngờ, bác sĩ sẽ chỉ định làm sinh thiết.\n",
      "====================================================================================================\n",
      "score:  0.8625476705514113\n",
      "text:  Biện pháp chẩn đoán \n",
      "<i>ung thư dạ dày\n",
      "</i> thường được áp dụng tại bệnh viện bao gồm:\n",
      "<h3><b>Nội soi dạ dày</b>\n",
      "</h3> Bác sĩ sẽ dùng một ống mềm, dài, có gắn camera, đưa vào thực quản đi xuống dạ dày. Nếu phát hiện các tổn thương và/ hoặc các khối u nghi ngờ, bác sĩ sẽ chỉ định làm sinh thiết.\n",
      "<b></b><i>Bác sĩ đang nội soi dạ dày cho bệnh nhân tại Trung tâm Nội soi và Phẫu thuật nội soi tiêu hóa, BVĐK Tâm Anh TP.HCM\n",
      "</i><b><br /> </b>\n",
      "<h3><b>Sinh thiết dạ dày</b>\n",
      "</h3> Đây là kỹ thuật lấy mô từ các vị trí khác nhau của dạ dày, sau đó được xử lý và cắt mỏng để soi dưới kính hiển vi, nhằm xác định bản chất bình thường/ bất thường lành tính hay bất thường ác tính của các tế bào dạ dày (hay còn được gọi là Giải phẫu bệnh).\n",
      "<h3><b>Xét nghiệm máu</b>\n",
      "</h3> Trong một vài trường hợp, các bác sĩ có thể cho thực hiện xét nghiệm công thức máu để đánh giá mức độ thiếu máu của người bệnh. Ngoài ra, các bác sĩ cũng có thể cho thực hiện các xét nghiệm máu khác về chức năng gan &#8211; thận, các dấu ấn ung thư (tumor marker)&#8230; để bổ sung thông tin đánh giá trước điều trị và/ hoặc phối hợp theo dõi sau điều trị.\n",
      "<h3><b>Kiểm tra hình ảnh</b>\n",
      "</h3> Bác sĩ có thể cần bổ sung các xét nghiệm về hình ảnh cho việc chẩn đoán ung thư dạ dày thông qua vài phương pháp kiểm tra hình ảnh sau:\n",
      "  Chụp X-quang dạ dày\n",
      " Chụp\n",
      " CT và/ hoặc MRI, PET-CT, xạ hình xương.\n",
      "<b><br /> </b>   \n",
      "Bác sĩ bệnh viện Tâm Anh chẩn đoán ung thư dạ dày cho người bệnh bằng phương pháp chụp X-quang. \n",
      "<h2><b>Bệnh ung thư dạ dày</b><b> có nguy hiểm không?</b>\n",
      "</h2> <i>Ung thư dạ dày\n",
      "</i> là một trong số những căn bệnh nguy hiểm nhất về đường tiêu hóa, có tỷ lệ tử vong cao chỉ sau ung thư phổi và ung thư gan. Mỗi năm Việt Nam lại có 17.527 ca mắc mới \n",
      "<i>ung thư dạ dày\n",
      "</i>, trong số đó, nam giới chiếm nhiều hơn với 11.161 ca và 6.366 ở nữ giới, theo thống kê của Globocan năm 2018.\n",
      "====================================================================================================\n",
      "score:  0.8621662025110182\n",
      "text:  https://tamanhhospital.vn/ung-thu-da-day/\n",
      "\n",
      "                    Trang chủ > \n",
      "CHUYÊN MỤC BỆNH HỌC > \n",
      "Ung bướu > \n",
      "Ung thư dạ dày: Dấu hiệu nhận biết, nguyên nhân và cách điều trị\n",
      "<h1>Ung thư dạ dày: Dấu hiệu nhận biết, nguyên nhân và cách điều trị</h1>\n",
      "<strong><i>Ung thư dạ dày</i></strong><i> gây tỷ lệ tử vong cao thứ 3 tại Việt Nam, chỉ sau ung thư gan, ung thư phổi và đang có xu hướng trẻ hóa &#8211; Theo Bác sĩ Trần Vương Thảo Nghi, Trưởng khoa Ung bướu, Bệnh viện Đa khoa Tâm Anh TP.HCM.\n",
      "</i> Ung thư dạ dày có thể xảy ra ở mọi giới và mọi lứa tuổi, song phổ biến nhất là ở những người từ 50 tuổi trở lên. Nam giới có tỷ lệ mắc ung thư dạ dày cao hơn phụ nữ. Khả năng chữa khỏi bệnh đến 90% nếu được phát hiện sớm từ giai đoạn khởi phát.\n",
      "<em>Ung thư dạ dày có tỷ lệ tử vong cao thứ 3 trong các loại ung thư, chỉ sau ung thư gan và phổi</em> \n",
      "<h3>Mục lục</h3>\n",
      "Ung thư dạ dày là gì?\n",
      "Dấu hiệu nhận biết ung thư dạ dày\n",
      "Giai đoạn đầu: Thường được phân chia làm 2 nhóm chính\n",
      "Giai đoạn tiến triển: Cũng được chia thành các nhóm như sau\n",
      " Nguyên nhân gây ung thư dạ dày\n",
      "Các biện pháp chẩn đoán bệnh ung thư dạ dày\n",
      "Nội soi dạ dày\n",
      "Sinh thiết dạ dày\n",
      "Xét nghiệm máu\n",
      "Kiểm tra hình ảnh\n",
      " Bệnh ung thư dạ dày có nguy hiểm không?\n",
      "Ung thư dạ dày có chữa được không?\n",
      "Phương pháp điều trị ung thư dạ dày\n",
      "Phẫu thuật\n",
      "Xạ trị\n",
      "Hóa trị (điều trị hóa chất)\n",
      "Liệu pháp nhắm trúng đích\n",
      "Chăm sóc và điều trị giảm nhẹ\n",
      " Phòng ngừa bệnh ung thư dạ dày\n",
      "Bệnh viện Tâm Anh thăm khám, tầm soát và điều trị ung thư dạ dày toàn diện, triệt để\n",
      "<h2><b>Ung thư dạ dày là gì?</b>\n",
      "</h2> Ung thư dạ dày xảy ra khi có sự phát triển bất thường của các tế bào trong dạ dày. Sự thay đổi/ phát triển bất thường xuất phát từ vài tế bào và có thể dần dần tiến triển tạo nên tổn thương ung thư dạng chồi sùi hay dạng loét. Quá trình này có thể ít nhất là vài tháng hoặc vài năm. Chính vì vậy, trong giai đoạn đầu hình thành khối u, nếu không tầm soát sớm thì sẽ không thể phát hiện ra bệnh.\n",
      "====================================================================================================\n",
      "score:  0.8554514449450161\n",
      "text:  Khi có tổn thương ác tính hình thành ở dạ dày, tùy thuộc vào từng giai đoạn của bệnh và vị trí của tổn thương mà người bệnh có thể có các dấu hiệu khác nhau. Tuy nhiên, nhìn chung thì các dấu hiệu này thường khá mơ hồ, không đặc hiệu cho ung thư dạ dày (bởi vì các dấu hiệu này cũng có thể xuất hiện trong các bệnh lý lành tính khác của dạ dày). Các dấu hiệu có thể bao gồm:\n",
      "<h3><b>Giai đoạn đầu: Thường được phân chia làm 2 nhóm chính</b>\n",
      "</h3>  Rối loạn tiêu hóa: Khó nuốt; Ợ hơi, ợ chua, ợ nóng; Cảm giác buồn nôn, nôn.\n",
      " Cảm giác đau: Đau âm ỉ không theo chu kỳ; Đau khi đói; Đau vùng dưới xương ức khi ăn no.\n",
      "<em>Triệu chứng bệnh ung thư dạ dày giai đoạn đầu rất khó phát hiện và dễ nhầm lẫn với dấu hiệu viêm dạ dày</em> “Do tính chất không đặc hiệu và khá mơ hồ, nên các triệu chứng này rất dễ bị nhầm lẫn với bệnh viêm loét dạ dày, vì vậy người bệnh thường chủ quan không tầm soát bệnh sớm. Đây cũng là lý do \n",
      "<i>bệnh ung thư dạ dày\n",
      "</i> thường được phát hiện muộn, khi đã ở giai đoạn tiến triển và/hoặc di căn.” &#8211; \n",
      "Bác sĩ Trần Vương Thảo Nghi nhấn mạnh.\n",
      "<h3><b>Giai đoạn tiến triển: Cũng được chia thành các nhóm như sau</b>\n",
      "</h3>  <b>Rối loạn tiêu hóa: </b>Buồn nôn và ói mửa; Ợ chua thường xuyên; Đầy hơi liên tục; Ăn ít cũng thấy no; Chán ăn.\n",
      " <b>Cảm giác đau: </b>Hay bị đau dữ dội sau khi ăn; Hoặc \n",
      "đau âm ỉ không theo chu kỳ; Đau khi đói; Đau vùng dưới xương ức khi ăn no\n",
      ".\n",
      " <b>Chảy máu ở tổn thương ung thư của dạ dày:</b> Thiếu máu; Phân lẫn máu hoặc phân màu đen; Da vàng.\n",
      " <b>Rối loạn dinh dưỡng do kém/không hấp thu: </b>Sụt cân đột ngột, không rõ lý do; Hoa mắt, chóng mặt; Mệt mỏi đến mức giảm khả năng lao động.\n",
      "<h2><b>Nguyên nhân gây ung thư dạ dày</b>\n",
      "</h2>  Nhiễm trùng do vi khuẩn H. pylori (một bệnh nhiễm trùng dạ dày phổ biến đôi khi có thể dẫn đến loét).\n",
      " Polyp dạ dày (sự phát triển bất thường của mô hình thành trên niêm mạc dạ dày).\n",
      "====================================================================================================\n",
      "score:  0.8538358327503094\n",
      "text:  Sự thay đổi/ phát triển bất thường xuất phát từ vài tế bào và có thể dần dần tiến triển tạo nên tổn thương ung thư dạng chồi sùi hay dạng loét. Quá trình này có thể ít nhất là vài tháng hoặc vài năm. Chính vì vậy, trong giai đoạn đầu hình thành khối u, nếu không tầm soát sớm thì sẽ không thể phát hiện ra bệnh. Bệnh có thể ảnh hưởng đến bất kỳ bộ phận nào của dạ dày, nhưng phổ biến nhất là phần chính của dạ dày (thân dạ dày) và nơi giao nhau của dạ dày &#8211; thực quản (thực quản là ống dẫn thức ăn từ miệng xuống dạ dày).\n",
      " Ung thư dạ dày là nguyên nhân thứ 3 gây ra các ca tử vong do ung thư ở cả nam và nữ trên toàn thế giới. Bệnh gây tỷ lệ tử vong cao nhưng rất khó chẩn đoán vì thường không biểu hiện các triệu chứng ở giai đoạn sớm.\n",
      " Dựa vào mức độ tổn thương, bệnh ung thư dạ dày được chia thành 5 giai đoạn, bao gồm:\n",
      "  <b>Giai đoạn 0:</b> Các tế bào ung thư mới xuất hiện ở lớp niêm mạc dạ dày. Đây còn được gọi là ung thư biểu mô, là giai đoạn sớm của ung thư dạ dày.\n",
      " <b>Giai đoạn 1: </b>Các tế bào ung thư đã gây tổn thương ở lớp thứ 2 của dạ dày.\n",
      " <b>Giai đoạn 2: </b>Các tế bào ung thư đã xâm lấn qua lớp niêm mạc dạ dày. Giai đoạn này còn được gọi là ung thư dưới cơ.\n",
      " <b>Giai đoạn 3: </b>Các tế bào ung thư đã phát triển vào hạch bạch huyết và các cơ quan khác trong cơ thể.\n",
      " <b>Giai đoạn 4:</b> Ở giai đoạn cuối này các\n",
      " tế bào ung thư đã di căn khắp cơ thể, gây nguy cơ tử vong cao.\n",
      "<h2><b>Dấu hiệu nhận biết ung thư dạ dày</b>\n",
      "</h2> Dạ dày là cơ quan hình chữ J, nằm ở vùng bụng trên, thuộc một phần của hệ thống tiêu hóa. Khi có tổn thương ác tính hình thành ở dạ dày, tùy thuộc vào từng giai đoạn của bệnh và vị trí của tổn thương mà người bệnh có thể có các dấu hiệu khác nhau. Tuy nhiên, nhìn chung thì các dấu hiệu này thường khá mơ hồ, không đặc hiệu cho ung thư dạ dày (bởi vì các dấu hiệu này cũng có thể xuất hiện trong các bệnh lý lành tính khác của dạ dày).\n",
      "====================================================================================================\n",
      "score:  0.853300397419102\n",
      "text:  Theo bác sĩ Hải, ung thư bắt đầu khi các tế bào bên trong dạ dày thay đổi/phát triển bất thường. Theo thời gian (vài tháng hoặc vài năm), chúng có thể tiến triển, tạo ra các tổn thương dạng loét hoặc sùi. Ung thư có thể ảnh hưởng đến bất kỳ vị trí nào của dạ dày nhưng phổ biến nhất là phần thân dạ dày và thực quản. Trong giai đoạn đầu hình thành khối u hầu như không thể phát hiện nếu không thực hiện tầm soát.\n",
      "<em>Nội soi tầm soát ung thư dạ dày giúp phát hiện bệnh sớm với tỷ lệ chữa khỏi bệnh đến 90%.</em> Khoa Ung bướu, Bệnh viện Đa khoa Tâm Anh quy tụ đội ngũ chuyên gia đầu ngành giỏi nghề, giàu kinh nghiệm cùng hệ thống trang thiết bị, máy móc hiện đại bậc nhất như: Hệ thống máy Siêu âm 3D đàn hồi Real time hiện đại nhất thế giới SuperSonic Imagine Mach 30; máy chụp cắt lớp vi tính (CT) 768 lát cắt hiện đại; máy chụp cộng hưởng từ (MRI) 1.5-3 Tesla (Đức); hệ thống máy xét nghiệm sinh hóa &#8211; miễn dịch, huyết học, vi sinh, sinh học Roche Cobas system, Cobas 6500; hệ thống máy xét nghiệm nước tiểu Roche Cobas u701, u601, u411; máy khí máu Roche Cobas b211; Hệ thống nội soi đường tiêu hóa Fuji 7000 có khả năng phóng đại 140 lần;… giúp tầm soát, phát hiện ung thư giai đoạn sớm. Bên cạnh đó, sự kết hợp mật thiết giữa các chuyên khoa Ung bướu, Tiêu hóa, Tim mạch, Thần Kinh, Tai Mũi Họng, Sản Phụ khoa, Nội tiết, Tiết niệu &#8211; Thận học, Dinh dưỡng… giúp điều trị chuyên biệt, cá thể hóa, cải thiện chất lượng sống cho bệnh nhân ung thư.\n",
      " <strong>HỆ THỐNG BỆNH VIỆN ĐA KHOA TÂM ANH</strong>  Hà Nội:\n",
      "  108 Hoàng Như Tiếp, P.Bồ Đề, Q.Long Biên, TP.Hà Nội\n",
      " Hotline: <strong>024 3872 3872 &#8211; 024 7106 6858</strong>\n",
      "    TP.HCM:\n",
      "  2B Phổ Quang, P.2, Q.Tân Bình, TP.Hồ Chí Minh\n",
      " Hotline: <strong>093 180 6858 &#8211; 0287 102 6789</strong>\n",
      "    Fanpage: \n",
      "<strong>https://www.facebook.com/benhvientamanh</strong> Website: \n",
      "<strong>https://tamanhhospital.vn</strong>    Nếu ung thư dạ dày được phát hiện từ giai đoạn sớm, tỷ lệ chữa khỏi bệnh đến 90%.\n",
      "====================================================================================================\n"
     ]
    }
   ],
   "source": [
    "for i in response.source_nodes:\n",
    "    print('score: ', i.score)\n",
    "    print('text: ', i.text)\n",
    "    print('='*100)"
   ]
  }
 ],
 "metadata": {
  "kernelspec": {
   "display_name": "Python 3 (ipykernel)",
   "language": "python",
   "name": "python3"
  },
  "language_info": {
   "codemirror_mode": {
    "name": "ipython",
    "version": 3
   },
   "file_extension": ".py",
   "mimetype": "text/x-python",
   "name": "python",
   "nbconvert_exporter": "python",
   "pygments_lexer": "ipython3",
   "version": "3.9.18"
  },
  "widgets": {
   "application/vnd.jupyter.widget-state+json": {
    "state": {},
    "version_major": 2,
    "version_minor": 0
   }
  }
 },
 "nbformat": 4,
 "nbformat_minor": 4
}
