{
 "cells": [
  {
   "cell_type": "code",
   "execution_count": 1,
   "id": "cbdc3da4-5bf3-4fd0-ae51-9eb816612560",
   "metadata": {},
   "outputs": [],
   "source": [
    "# Link: https://docs.llamaindex.ai/en/stable/examples/node_postprocessor/LLMReranker-Gatsby.html\n",
    "from dotenv import load_dotenv\n",
    "\n",
    "import openai\n",
    "import os\n",
    "load_dotenv()\n",
    "\n",
    "import logging\n",
    "import sys\n",
    "import os\n",
    "import nest_asyncio\n",
    "\n",
    "import numexpr as ne\n",
    "\n",
    "logging.basicConfig(stream=sys.stdout, level=logging.INFO)\n",
    "logging.getLogger().addHandler(logging.StreamHandler(stream=sys.stdout))\n",
    "openai.api_key = os.getenv('OPENAI_API_KEY')\n",
    "nest_asyncio.apply()\n",
    "\n",
    "\n",
    "os.environ['NUMEXPR_MAX_THREADS'] = '4'\n",
    "os.environ['NUMEXPR_NUM_THREADS'] = '2'"
   ]
  },
  {
   "cell_type": "code",
   "execution_count": 2,
   "id": "2645057e-f15a-4d4f-a7db-a3ca4320920d",
   "metadata": {},
   "outputs": [],
   "source": [
    "from llama_index import (\n",
    "    VectorStoreIndex,\n",
    "    SimpleDirectoryReader,\n",
    "    ServiceContext,\n",
    ")\n",
    "from llama_index.postprocessor import LLMRerank\n",
    "from llama_index.llms import OpenAI\n",
    "from IPython.display import Markdown, display"
   ]
  },
  {
   "cell_type": "code",
   "execution_count": 30,
   "id": "5788e41e-63b6-4b66-8c57-dd70448e9aa1",
   "metadata": {},
   "outputs": [],
   "source": [
    "llm = OpenAI(temperature=0, model=\"gpt-3.5-turbo\")\n",
    "service_context = ServiceContext.from_defaults(llm=llm, chunk_size=512)"
   ]
  },
  {
   "cell_type": "code",
   "execution_count": 31,
   "id": "f8f0f759-0b69-4ff5-af43-b29dd072bbc9",
   "metadata": {},
   "outputs": [],
   "source": [
    "# load documents\n",
    "documents = SimpleDirectoryReader(\"../test_data\").load_data()"
   ]
  },
  {
   "cell_type": "code",
   "execution_count": 32,
   "id": "79fe6e98-c6a7-4b03-b15c-6471a3b05cd7",
   "metadata": {
    "scrolled": true
   },
   "outputs": [
    {
     "name": "stdout",
     "output_type": "stream",
     "text": [
      "INFO:httpx:HTTP Request: POST https://api.openai.com/v1/embeddings \"HTTP/1.1 200 OK\"\n",
      "HTTP Request: POST https://api.openai.com/v1/embeddings \"HTTP/1.1 200 OK\"\n",
      "INFO:httpx:HTTP Request: POST https://api.openai.com/v1/embeddings \"HTTP/1.1 200 OK\"\n",
      "HTTP Request: POST https://api.openai.com/v1/embeddings \"HTTP/1.1 200 OK\"\n",
      "INFO:httpx:HTTP Request: POST https://api.openai.com/v1/embeddings \"HTTP/1.1 200 OK\"\n",
      "HTTP Request: POST https://api.openai.com/v1/embeddings \"HTTP/1.1 200 OK\"\n",
      "INFO:httpx:HTTP Request: POST https://api.openai.com/v1/embeddings \"HTTP/1.1 200 OK\"\n",
      "HTTP Request: POST https://api.openai.com/v1/embeddings \"HTTP/1.1 200 OK\"\n",
      "INFO:httpx:HTTP Request: POST https://api.openai.com/v1/embeddings \"HTTP/1.1 200 OK\"\n",
      "HTTP Request: POST https://api.openai.com/v1/embeddings \"HTTP/1.1 200 OK\"\n",
      "INFO:httpx:HTTP Request: POST https://api.openai.com/v1/embeddings \"HTTP/1.1 200 OK\"\n",
      "HTTP Request: POST https://api.openai.com/v1/embeddings \"HTTP/1.1 200 OK\"\n",
      "INFO:httpx:HTTP Request: POST https://api.openai.com/v1/embeddings \"HTTP/1.1 200 OK\"\n",
      "HTTP Request: POST https://api.openai.com/v1/embeddings \"HTTP/1.1 200 OK\"\n",
      "INFO:httpx:HTTP Request: POST https://api.openai.com/v1/embeddings \"HTTP/1.1 200 OK\"\n",
      "HTTP Request: POST https://api.openai.com/v1/embeddings \"HTTP/1.1 200 OK\"\n",
      "INFO:httpx:HTTP Request: POST https://api.openai.com/v1/embeddings \"HTTP/1.1 200 OK\"\n",
      "HTTP Request: POST https://api.openai.com/v1/embeddings \"HTTP/1.1 200 OK\"\n"
     ]
    }
   ],
   "source": [
    "index = VectorStoreIndex.from_documents(\n",
    "    documents, \n",
    "    service_context=service_context\n",
    ")"
   ]
  },
  {
   "cell_type": "code",
   "execution_count": 33,
   "id": "f4fb2572-ba79-4798-8bcf-57620aa7f09a",
   "metadata": {},
   "outputs": [],
   "source": [
    "from llama_index.prompts import PromptTemplate\n",
    "openai.log = \"debug\"\n",
    "\n",
    "text_qa_template_str = (\n",
    "    \"Bạn là trợ lý của Andrew Huberman, người có thể đọc các ghi chú podcast của Andrew Huberman.\\n\"\n",
    "    \"Luôn trả lời truy vấn chỉ bằng cách sử dụng thông tin ngữ cảnh được cung cấp, \"\n",
    "    \"chứ không phải kiến ​​thức sẵn có.\\n\"\n",
    "    \"Một số quy tắc cần tuân theo:\\n\"\n",
    "    \"1. Không bao giờ tham khảo trực tiếp bối cảnh nhất định trong câu trả lời của bạn.\\n\"\n",
    "    \"2. Tránh những câu như 'Dựa trên ngữ cảnh, ...' hoặc \"\n",
    "    \"'Thông tin ngữ cảnh ...' hoặc bất cứ điều gì cùng\"\n",
    "    \"những dòng đó.\"\n",
    "    \"Thông tin bối cảnh dưới đây.\\n\"\n",
    "    \"---------------------\\n\"\n",
    "    \"{context_str}\\n\"\n",
    "    \"---------------------\\n\"\n",
    "    \"Trả lời câu hỏi:{query_str}\\n\"\n",
    ")\n",
    "\n",
    "text_qa_template = PromptTemplate(text_qa_template_str)"
   ]
  },
  {
   "cell_type": "code",
   "execution_count": 34,
   "id": "eca96f60-ec16-4996-8486-310f84480d0e",
   "metadata": {},
   "outputs": [
    {
     "name": "stderr",
     "output_type": "stream",
     "text": [
      "Some weights of BertForSequenceClassification were not initialized from the model checkpoint at sentence-transformers/paraphrase-multilingual-MiniLM-L12-v2 and are newly initialized: ['classifier.weight', 'classifier.bias']\n",
      "You should probably TRAIN this model on a down-stream task to be able to use it for predictions and inference.\n"
     ]
    }
   ],
   "source": [
    "from llama_index.postprocessor import SentenceTransformerRerank\n",
    "\n",
    "\n",
    "rerank = SentenceTransformerRerank(\n",
    "    model=\"sentence-transformers/paraphrase-multilingual-MiniLM-L12-v2\", \n",
    "    top_n=3\n",
    ")"
   ]
  },
  {
   "cell_type": "code",
   "execution_count": 35,
   "id": "e45ad147-5ee3-443e-87b5-bebf3965f396",
   "metadata": {},
   "outputs": [],
   "source": [
    "from time import time\n",
    "\n",
    "query_engine = index.as_query_engine(\n",
    "    similarity_top_k=5,\n",
    "    # node_postprocessors=[rerank],\n",
    "    text_qa_template = text_qa_template\n",
    ")"
   ]
  },
  {
   "cell_type": "code",
   "execution_count": 36,
   "id": "a2d5b28f-633f-4b7b-8ac1-d92a32ba4333",
   "metadata": {},
   "outputs": [
    {
     "name": "stdout",
     "output_type": "stream",
     "text": [
      "INFO:httpx:HTTP Request: POST https://api.openai.com/v1/embeddings \"HTTP/1.1 200 OK\"\n",
      "HTTP Request: POST https://api.openai.com/v1/embeddings \"HTTP/1.1 200 OK\"\n",
      "INFO:httpx:HTTP Request: POST https://api.openai.com/v1/chat/completions \"HTTP/1.1 200 OK\"\n",
      "HTTP Request: POST https://api.openai.com/v1/chat/completions \"HTTP/1.1 200 OK\"\n",
      "Elapsed: 5.07s\n"
     ]
    }
   ],
   "source": [
    "now = time()\n",
    "response = query_engine.query(\n",
    "    \"Xuất tinh sớm có nguy hiểm hay không?\",\n",
    ")\n",
    "print(f\"Elapsed: {round(time() - now, 2)}s\")"
   ]
  },
  {
   "cell_type": "code",
   "execution_count": 37,
   "id": "b9e3164f-a99a-4c85-b585-b091510f74cd",
   "metadata": {},
   "outputs": [
    {
     "name": "stdout",
     "output_type": "stream",
     "text": [
      "Xuất tinh sớm không gây nguy hiểm đến tính mạng, nhưng nó có thể ảnh hưởng đến đời sống tình dục, tâm lý và khả năng sinh sản của người đàn ông. Nếu không được điều trị sớm, xuất tinh sớm có thể gây ra những biến chứng nguy hiểm như rối loạn cương dương, gây liệt dương và thậm chí dẫn đến vô sinh.\n"
     ]
    }
   ],
   "source": [
    "print(response)"
   ]
  },
  {
   "cell_type": "code",
   "execution_count": 38,
   "id": "4e9c2e82-571d-4c0d-98de-a343690e8673",
   "metadata": {},
   "outputs": [
    {
     "name": "stdout",
     "output_type": "stream",
     "text": [
      "score:  0.8658662541328387\n",
      "text:  (1) Xuất tinh sớm là vấn đề này khá nhạy cảm nên nhiều người không dám đối diện, né tránh thăm khám, chữa trị. Tuy nhiên, điều này ảnh hưởng rất lớn đến cuộc sống của nam giới, nếu không được điều trị sớm, nam giới có nguy cơ đối mặt với những biến chứng nguy hiểm như: rối loạn cương dương, gây liệt dương, thậm chí dẫn đến vô sinh. Xuất tinh sớm thường có 4 dạng là nguyên phát (thời gian xuất tinh ngắn xảy ra ngay từ những lần đầu giao hợp và kéo dài cho tới hiện tại), thứ phát (thời gian xuất tinh bình thường, nhưng thời gian gây đây có giảm đáng kể ảnh và ảnh hưởng tới tâm lý và quan hệ cặp đôi), xuất tinh sớm thay đổi (thời gian xuất tinh thay đổi tùy thuộc vào hoàn cảnh, đối tác, kích thích…) và các rối loạn xuất tinh giống <strong>xuất tinh sớm</strong>.\n",
      "====================================================================================================\n",
      "score:  0.8657671753421374\n",
      "text:  Quá trình xuất tinh là sự phóng tinh dịch ra khỏi dương vật khi đạt được cực khoái. Việc xuất tinh sớm không chỉ ảnh hưởng đến của cảm xúc giường chiếu của chính mình mà “đối tác” của họ cũng ảnh hưởng không kém. Xuất tinh sớm là hiện tượng khá phổ biến, xuất hiện từ độ tuổi 18 đến 59. (1) Xuất tinh sớm là vấn đề này khá nhạy cảm nên nhiều người không dám đối diện, né tránh thăm khám, chữa trị. Tuy nhiên, điều này ảnh hưởng rất lớn đến cuộc sống của nam giới, nếu không được điều trị sớm, nam giới có nguy cơ đối mặt với những biến chứng nguy hiểm như: rối loạn cương dương, gây liệt dương, thậm chí dẫn đến vô sinh.\n",
      "====================================================================================================\n",
      "score:  0.8635675862639137\n",
      "text:  <strong>Do tâm lý:</strong> Khi người đàn ông không có khả năng kiểm soát xuất tinh dẫn đến thời gian xuất tinh ngắn, sẽ ảnh hưởng đến thỏa mãn tình dục của cả nam giới và đối tác của họ. Tâm lý lo lắng, tự ti về thời gian xuất tinh ngắn với mối quan hệ trước đó sẽ ảnh hưởng đến mối quan hệ mới. Nam giới sẽ gặp vấn đề về tâm lý, vấn đề với đối tác, khi đó độ cương của nam giới sẽ bị ảnh hưởng, và sẽ hình thành vòng xoắn bệnh lý do tâm lý. Các yếu tố nguy cơ khác : do di truyền, rối loạn nội tiết, viêm tuyến tiền liệt mạn tính, stress, hoàn cảnh giao hợp…    \n",
      "<h2><strong>Bệnh xuất tinh sớm có nguy hiểm không?</strong></h2> Theo các chuyên gia, <strong>xuất tinh sớm không gây nguy hiểm</strong> đến tính mạng nhưng lại ảnh hưởng rất lớn đến đời sống tình dục, tâm lý và thậm chí là đến khả năng sinh sản của người đàn ông (có thể giảm khả năng sinh sản, thậm chí gây vô sinh) và rất nhiều hệ lụy khác.\n",
      "====================================================================================================\n",
      "score:  0.8611637407616484\n",
      "text:  <h3>Mục lục</h3>\n",
      "Xuất tinh sớm là gì?\n",
      "Các mức độ của xuất tinh sớm\n",
      "Nguyên nhân xuất tinh sớm\n",
      "Bệnh xuất tinh sớm có nguy hiểm không?\n",
      "Chẩn đoán xuất tinh sớm\n",
      "1. Hỏi thăm bệnh sử và tiền căn\n",
      "2. Tiến hành khám lâm sàng\n",
      "3. Xét nghiệm cận lâm sàng\n",
      " Điều trị và kiểm soát xuất tinh sớm ở nam giới\n",
      "1. Liệu pháp kiểm soát tâm lý và hành vi\n",
      "2. Điều trị xuất tinh sớm bằng thuốc\n",
      "3. Phẫu thuật\n",
      "<h2><strong>Xuất tinh sớm là gì?</strong></h2> <strong>Xuất tinh sớm</strong> (premature ejaculation) là tình trạng rối loạn xuất tinh khi người đàn ông không thể làm chủ được thời gian xuất tinh, quá trình xuất tinh sớm được tính từ khi dương vật đưa vào âm đạo chỉ duy trì trong vòng 2 phút. Quá trình xuất tinh là sự phóng tinh dịch ra khỏi dương vật khi đạt được cực khoái. Việc xuất tinh sớm không chỉ ảnh hưởng đến của cảm xúc giường chiếu của chính mình mà “đối tác” của họ cũng ảnh hưởng không kém. Xuất tinh sớm là hiện tượng khá phổ biến, xuất hiện từ độ tuổi 18 đến 59.\n",
      "====================================================================================================\n",
      "score:  0.8597713707161109\n",
      "text:  Xuất tinh sớm là tình trạng nam giới không thể làm chủ được thời gian xuất tinh \n",
      "<h2><strong>Các mức độ của xuất tinh sớm</strong></h2> <strong>Xuất tinh sớm</strong> có nhiều mức độ nặng, nhẹ khác nhau dựa vào thời gian xuất tinh của nam giới để biết được tình trạng bệnh:  Mức độ nhẹ: Là tình trạng xuất tinh chỉ sau 1-2 phút tính từ khi dương vật xâm nhập vào âm đạo. Mức độ vừa: Có hiện tượng xuất tinh trong khoảng thời gian 30 giây đến 1 phút. Mức độ nặng: Nam giới có hiện tượng xuất tinh trong khoảng thời gian 15 giây khi bắt đầu quan hệ tình dục, hoặc hiện tượng xuất tinh trước khi quan hệ tình dục.   <iframe title=\"YouTube video player\" src=\"\" width=\"560\" height=\"315\" frameborder=\"0\" allowfullscreen=\"allowfullscreen\" class=\" lazyiframe\" data-src=\"https://www.youtube.com/embed/URDW2gl8gOQ?rel=0\">\n",
      "</iframe> \n",
      "<h2><strong>Nguyên nhân xuất tinh sớm</strong></h2> <strong>Xuất tinh sớm</strong> xuất phát từ nhiều nguyên nhân, có thể do thể chất, bệnh lý hoặc do tâm lý thường xuyên căng thẳng, mệt mỏi, thói quen sinh hoạt, ăn uống và vận động không hợp lý cũng tác động đến khả năng xuất tinh của nam giới.\n",
      "====================================================================================================\n"
     ]
    }
   ],
   "source": [
    "for i in response.source_nodes:\n",
    "    print('score: ', i.score)\n",
    "    print('text: ', i.text)\n",
    "    print('='*100)"
   ]
  },
  {
   "cell_type": "code",
   "execution_count": null,
   "id": "541e6c04-a49e-4a51-a648-60140aa6a89b",
   "metadata": {},
   "outputs": [],
   "source": []
  },
  {
   "cell_type": "code",
   "execution_count": null,
   "id": "e507c2fe-95b3-4487-aaf1-32d19fea3f92",
   "metadata": {},
   "outputs": [],
   "source": []
  }
 ],
 "metadata": {
  "kernelspec": {
   "display_name": "Python 3 (ipykernel)",
   "language": "python",
   "name": "python3"
  },
  "language_info": {
   "codemirror_mode": {
    "name": "ipython",
    "version": 3
   },
   "file_extension": ".py",
   "mimetype": "text/x-python",
   "name": "python",
   "nbconvert_exporter": "python",
   "pygments_lexer": "ipython3",
   "version": "3.9.18"
  },
  "widgets": {
   "application/vnd.jupyter.widget-state+json": {
    "state": {
     "0128ed8c29fa4b1e8ea3a8a487684859": {
      "model_module": "@jupyter-widgets/controls",
      "model_module_version": "2.0.0",
      "model_name": "HTMLModel",
      "state": {
       "layout": "IPY_MODEL_15e3266c84b04affa0a4d8ed9006f934",
       "style": "IPY_MODEL_974a69d24b514a61b3fa21143e59680c",
       "value": " 1/1 [00:00&lt;00:00,  1.37it/s]"
      }
     },
     "15e3266c84b04affa0a4d8ed9006f934": {
      "model_module": "@jupyter-widgets/base",
      "model_module_version": "2.0.0",
      "model_name": "LayoutModel",
      "state": {}
     },
     "1ccb6364bb7a4b108a9f9d07dae3bdea": {
      "model_module": "@jupyter-widgets/controls",
      "model_module_version": "2.0.0",
      "model_name": "HTMLStyleModel",
      "state": {
       "description_width": "",
       "font_size": null,
       "text_color": null
      }
     },
     "368421b2c8d641c681a89a18bdc199fa": {
      "model_module": "@jupyter-widgets/base",
      "model_module_version": "2.0.0",
      "model_name": "LayoutModel",
      "state": {}
     },
     "5b17fd28d6494253920d9753e4d1566b": {
      "model_module": "@jupyter-widgets/base",
      "model_module_version": "2.0.0",
      "model_name": "LayoutModel",
      "state": {}
     },
     "5c86d55cdc2e40b0aed14d5e299a8e93": {
      "model_module": "@jupyter-widgets/controls",
      "model_module_version": "2.0.0",
      "model_name": "HTMLModel",
      "state": {
       "layout": "IPY_MODEL_5b17fd28d6494253920d9753e4d1566b",
       "style": "IPY_MODEL_1ccb6364bb7a4b108a9f9d07dae3bdea",
       "value": "Batches: 100%"
      }
     },
     "669c127b5a4542b39adac50bbca654e6": {
      "model_module": "@jupyter-widgets/controls",
      "model_module_version": "2.0.0",
      "model_name": "FloatProgressModel",
      "state": {
       "bar_style": "success",
       "layout": "IPY_MODEL_f7fc69f5950d4cf69ee1617fbefad300",
       "max": 1,
       "style": "IPY_MODEL_b9c2d633664f409083f3675dc52a5aaa",
       "value": 1
      }
     },
     "974a69d24b514a61b3fa21143e59680c": {
      "model_module": "@jupyter-widgets/controls",
      "model_module_version": "2.0.0",
      "model_name": "HTMLStyleModel",
      "state": {
       "description_width": "",
       "font_size": null,
       "text_color": null
      }
     },
     "b9c2d633664f409083f3675dc52a5aaa": {
      "model_module": "@jupyter-widgets/controls",
      "model_module_version": "2.0.0",
      "model_name": "ProgressStyleModel",
      "state": {
       "description_width": ""
      }
     },
     "c336b934d5ea463ba668cbe1e755d669": {
      "model_module": "@jupyter-widgets/controls",
      "model_module_version": "2.0.0",
      "model_name": "HBoxModel",
      "state": {
       "children": [
        "IPY_MODEL_5c86d55cdc2e40b0aed14d5e299a8e93",
        "IPY_MODEL_669c127b5a4542b39adac50bbca654e6",
        "IPY_MODEL_0128ed8c29fa4b1e8ea3a8a487684859"
       ],
       "layout": "IPY_MODEL_368421b2c8d641c681a89a18bdc199fa"
      }
     },
     "f7fc69f5950d4cf69ee1617fbefad300": {
      "model_module": "@jupyter-widgets/base",
      "model_module_version": "2.0.0",
      "model_name": "LayoutModel",
      "state": {}
     }
    },
    "version_major": 2,
    "version_minor": 0
   }
  }
 },
 "nbformat": 4,
 "nbformat_minor": 5
}
