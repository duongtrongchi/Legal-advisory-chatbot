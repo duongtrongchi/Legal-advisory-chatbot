{
 "cells": [
  {
   "cell_type": "code",
   "execution_count": 1,
   "id": "4cf87bc5-99cf-45ea-9fbc-13a9cb64b957",
   "metadata": {},
   "outputs": [],
   "source": [
    "from dotenv import load_dotenv\n",
    "\n",
    "import openai\n",
    "import os\n",
    "load_dotenv()\n",
    "\n",
    "import logging\n",
    "import sys\n",
    "import os\n",
    "\n",
    "import numexpr as ne\n",
    "\n",
    "logging.basicConfig(stream=sys.stdout, level=logging.INFO)\n",
    "logging.getLogger().addHandler(logging.StreamHandler(stream=sys.stdout))\n",
    "openai.api_key = os.getenv('OPENAI_API_KEY')\n",
    "\n",
    "\n",
    "os.environ['NUMEXPR_MAX_THREADS'] = '4'\n",
    "os.environ['NUMEXPR_NUM_THREADS'] = '2'"
   ]
  },
  {
   "cell_type": "code",
   "execution_count": 2,
   "id": "714a69be-bbc3-48b6-a250-60bad76829f4",
   "metadata": {
    "scrolled": true
   },
   "outputs": [
    {
     "name": "stdout",
     "output_type": "stream",
     "text": [
      "INFO:llama_index.indices.loading:Loading all indices.\n",
      "Loading all indices.\n",
      "loading from disk\n"
     ]
    }
   ],
   "source": [
    "from llama_index import (\n",
    "    VectorStoreIndex, \n",
    "    SimpleDirectoryReader, \n",
    "    StorageContext, \n",
    "    load_index_from_storage,\n",
    ")\n",
    "from llama_index.prompts import PromptTemplate\n",
    "\n",
    "try:\n",
    "    storage_context = StorageContext.from_defaults(persist_dir='../storage/cache/andrew/medical')\n",
    "    index = load_index_from_storage(storage_context)\n",
    "    print('loading from disk')\n",
    "except:\n",
    "    documents = SimpleDirectoryReader('../assets/AndrewHuberman/medical').load_data()\n",
    "    index = VectorStoreIndex.from_documents(documents)\n",
    "    index.storage_context.persist(persist_dir='../storage/cache/andrew/medical/')\n",
    "    print('persisting to disk')"
   ]
  },
  {
   "cell_type": "code",
   "execution_count": 3,
   "id": "7d3ac707-58dd-426e-8a4f-18ee3dc6e5a9",
   "metadata": {},
   "outputs": [],
   "source": [
    "openai.log = \"debug\"\n",
    "\n",
    "text_qa_template_str = (\n",
    "    \"Bạn là trợ lý của Andrew Huberman, người có thể đọc các ghi chú podcast của Andrew Huberman.\\n\"\n",
    "    \"Luôn trả lời truy vấn chỉ bằng cách sử dụng thông tin ngữ cảnh được cung cấp, \"\n",
    "    \"chứ không phải kiến ​​thức sẵn có.\\n\"\n",
    "    \"Một số quy tắc cần tuân theo:\\n\"\n",
    "    \"1. Không bao giờ tham khảo trực tiếp bối cảnh nhất định trong câu trả lời của bạn.\\n\"\n",
    "    \"2. Tránh những câu như 'Dựa trên ngữ cảnh, ...' hoặc \"\n",
    "    \"'Thông tin ngữ cảnh ...' hoặc bất cứ điều gì cùng\"\n",
    "    \"những dòng đó.\"\n",
    "    \"Thông tin bối cảnh dưới đây.\\n\"\n",
    "    \"---------------------\\n\"\n",
    "    \"{context_str}\\n\"\n",
    "    \"---------------------\\n\"\n",
    "    \"Trả lời câu hỏi:{query_str}\\n\"\n",
    ")\n",
    "\n",
    "text_qa_template = PromptTemplate(text_qa_template_str)"
   ]
  },
  {
   "cell_type": "code",
   "execution_count": 4,
   "id": "e9eda5ac",
   "metadata": {},
   "outputs": [
    {
     "name": "stderr",
     "output_type": "stream",
     "text": [
      "Some weights of MPNetForSequenceClassification were not initialized from the model checkpoint at sentence-transformers/all-mpnet-base-v2 and are newly initialized: ['classifier.out_proj.bias', 'classifier.out_proj.weight', 'classifier.dense.bias', 'classifier.dense.weight']\n",
      "You should probably TRAIN this model on a down-stream task to be able to use it for predictions and inference.\n"
     ]
    }
   ],
   "source": [
    "from llama_index.postprocessor import SentenceTransformerRerank\n",
    "\n",
    "\n",
    "rerank = SentenceTransformerRerank(\n",
    "    model=\"sentence-transformers/all-mpnet-base-v2\", \n",
    "    top_n=5\n",
    ")"
   ]
  },
  {
   "cell_type": "code",
   "execution_count": 15,
   "id": "53fb503d",
   "metadata": {},
   "outputs": [],
   "source": [
    "from time import time\n",
    "\n",
    "query_engine = index.as_query_engine(\n",
    "    similarity_top_k=10,\n",
    "    node_postprocessors=[rerank],\n",
    "    text_qa_template = text_qa_template\n",
    ")"
   ]
  },
  {
   "cell_type": "code",
   "execution_count": 16,
   "id": "8dda98f8",
   "metadata": {
    "scrolled": true
   },
   "outputs": [
    {
     "name": "stdout",
     "output_type": "stream",
     "text": [
      "INFO:httpx:HTTP Request: POST https://api.openai.com/v1/embeddings \"HTTP/1.1 200 OK\"\n",
      "HTTP Request: POST https://api.openai.com/v1/embeddings \"HTTP/1.1 200 OK\"\n"
     ]
    },
    {
     "data": {
      "application/vnd.jupyter.widget-view+json": {
       "model_id": "124e874a8d2c4e2b98c91d064ab4f5ca",
       "version_major": 2,
       "version_minor": 0
      },
      "text/plain": [
       "Batches:   0%|          | 0/1 [00:00<?, ?it/s]"
      ]
     },
     "metadata": {},
     "output_type": "display_data"
    },
    {
     "name": "stdout",
     "output_type": "stream",
     "text": [
      "INFO:httpx:HTTP Request: POST https://api.openai.com/v1/chat/completions \"HTTP/1.1 200 OK\"\n",
      "HTTP Request: POST https://api.openai.com/v1/chat/completions \"HTTP/1.1 200 OK\"\n",
      "INFO:httpx:HTTP Request: POST https://api.openai.com/v1/chat/completions \"HTTP/1.1 200 OK\"\n",
      "HTTP Request: POST https://api.openai.com/v1/chat/completions \"HTTP/1.1 200 OK\"\n",
      "Elapsed: 7.57s\n"
     ]
    }
   ],
   "source": [
    "now = time()\n",
    "response = query_engine.query(\n",
    "    \"Nguyên nhân gây bệnh động mạch cảnh\",\n",
    ")\n",
    "print(f\"Elapsed: {round(time() - now, 2)}s\")"
   ]
  },
  {
   "cell_type": "code",
   "execution_count": 17,
   "id": "193b913e",
   "metadata": {},
   "outputs": [
    {
     "name": "stdout",
     "output_type": "stream",
     "text": [
      "Nguyên nhân gây bệnh động mạch cảnh là do mảng xơ vữa làm dày thành mạch và làm hẹp dần lòng mạch.\n"
     ]
    }
   ],
   "source": [
    "print(response)"
   ]
  },
  {
   "cell_type": "code",
   "execution_count": 18,
   "id": "799dcf0a-211d-4c8b-b2e8-a8b22cb2c927",
   "metadata": {
    "collapsed": true,
    "jupyter": {
     "outputs_hidden": true
    }
   },
   "outputs": [
    {
     "name": "stdout",
     "output_type": "stream",
     "text": [
      "score:  0.4993121\n",
      "text:  Nếu quan sát sẽ thấy gương mặt của người bệnh thiếu biểu cảm sinh động, người bệnh cũng di chuyển chậm chạp hơn, tay chân ít cử động hơn,&#8230;\n",
      " <em>Các \n",
      "triệu chứng bệnh Parkinson\n",
      "</em> thường bắt đầu ở một bên cơ thể và khi bệnh tiến triển, người bệnh có thể bị rối loạn chức năng vận động ở cả hai bên. Tuy nhiên, các triệu chứng thường chỉ nghiêm trọng ở một bên cơ thể (thường là bên có các dấu hiệu khởi phát bệnh).\n",
      "<h2><b>Nguyên nhân bệnh Parkinson</b></h2> <em>Nguyên nhân bệnh Parkinson\n",
      "</em> là do các tế bào thần kinh hạch nền (nhóm các nhân xám nằm sâu trong bán cầu đại não điều hòa vận động của con người) bị suy yếu và/hoặc mất. Thông thường, các tế bào thần kinh này sẽ tạo ra một chất hóa học được gọi là dopamine. Khi các tế bào thần kinh ở hạch nền chết hoặc bị suy yếu, chúng sẽ sản xuất ít dopamine hơn, giảm kích thích lên vỏ não và khiến người bệnh gặp khó khăn trong vận động.\n",
      " Tuy nhiên, tính đến thời điểm hiện tại, vẫn chưa tìm ra được nguyên nhân chính xác khiến tế bào thần kinh chết đi và dẫn đến \n",
      "bệnh Parkinson\n",
      ". Vì vậy, có thể nói \n",
      "<em>nguyên nhân Parkinson\n",
      "</em> vẫn chưa được xác định cụ thể.\n",
      " Một số yếu tố được cho là có liên quan đến nguy cơ mắc \n",
      "bệnh Parkinson \n",
      "bao gồm: (4)\n",
      "  <strong>Tuổi tác:</strong> Càng lớn tuổi thì lượng dopamine trong cơ thể càng suy giảm nhanh chóng hơn.\n",
      " <strong>Môi trường:</strong> Thường xuyên tiếp xúc với các chất hóa học độc hại như thuốc diệt cỏ, thuốc trừ sâu,&#8230; làm tăng nguy cơ mắc \n",
      "bệnh Parkinson\n",
      ".\n",
      " <strong>Chấn thương sọ não:</strong> Người có tiền sử chấn thương sọ não dễ bị \n",
      "bệnh Parkinson\n",
      " hơn so với người bình thường.\n",
      " <strong>Di truyền:</strong> Một số trường hợp bị Parkinson được cho là có liên quan đến di truyền. Nếu gia đình có người từng mắc \n",
      "bệnh Parkinson\n",
      " thì nguy cơ mắc bệnh của bạn cũng cao hơn.\n",
      "Chưa tìm ra được nguyên nhân chính xác gây bệnh Parkinson \n",
      "<h2><b>Các giai đoạn của </b><b>bệnh Parkinson</b></h2> Dựa trên thang điểm đánh giá hội chứng Parkinson theo Hoehn và Yahr, \n",
      "bệnh Parkinson\n",
      " được chia làm 5 giai đoạn tiến triển chính:\n",
      "<h3><strong>1.\n",
      "====================================================================================================\n",
      "score:  0.49906987\n",
      "text:  https://tamanhhospital.vn/hep-dong-mach-canh/\n",
      "\n",
      "                    Trang chủ > \n",
      "CHUYÊN MỤC BỆNH HỌC > \n",
      "Tim mạch > \n",
      "Hẹp động mạch cảnh: Nguyên nhân, triệu chứng, điều trị và phòng ngừa\n",
      "<h1>Hẹp động mạch cảnh: Nguyên nhân, triệu chứng, điều trị và phòng ngừa</h1>\n",
      "<em>Đột quỵ hay tai biến mạch máu não là nguyên nhân đứng thứ hai gây tử vong trên toàn thế giới. Trong những nguyên nhân dẫn đến đột quỵ, <strong>hẹp động mạch cảnh</strong> là nguyên nhân phổ biến, nhưng thường bị bỏ qua dẫn đến chậm trễ trong việc điều trị.</em>  Thống kê năm 2016 của Global Burden of Disease có 5.5 triệu trường hợp tử vong vì đột quỵ. Tại Việt Nam, đột quỵ được ghi nhận là nguyên nhân hàng đầu với hơn 97.000 trường hợp tử vong năm 2020. Số lượng bệnh nhân đột quỵ mới trong năm khoảng 200.000 trường hợp. Trong những nguyên gây đột quỵ, hẹp động mạch cảnh do xơ vữa chiếm khoảng 15%. Phẫu thuật bóc lớp trong động mạch cảnh hoặc can thiệp đặt stent là những kỹ thuật điều trị mang lại kết quả tốt giúp phòng ngừa đột quỵ không xảy ra. \n",
      "<h3>Mục lục</h3>\n",
      "Hẹp động mạch cảnh là gì?\n",
      "Nguyên nhân hẹp động mạch cảnh\n",
      "Triệu chứng hẹp động mạch cảnh\n",
      "Phương pháp chẩn đoán hẹp động mạch cảnh\n",
      "Đánh giá mức độ hẹp\n",
      "Vận tốc đỉnh thì tâm thu\n",
      " Điều trị bệnh hẹp động mạch cảnh như thế nào?\n",
      "Thay đổi lối sống\n",
      "Thuốc\n",
      "Đặt stent động mạch cảnh\n",
      " Lựa chọn phẫu thuật bóc lớp trong hay đặt stent động mạch cảnh?\n",
      "Theo dõi sau phẫu thuật và can thiệp\n",
      "Phòng ngừa bệnh hẹp động mạch cảnh\n",
      "Tầm soát bệnh hẹp động mạch cảnh\n",
      "<h2><strong>Hẹp động mạch cảnh là gì?</strong></h2> <strong>Hẹp động mạch cảnh</strong> là tình trạng thành mạch bị dày lên do mảng xơ vữa, làm hẹp dần lòng mạch. Động mạch cảnh 2 bên là các nhánh chính xuất phát từ động mạch chủ ngực, đi ở trong máng cảnh dọc 2 bên cổ lên cung cấp máu nuôi não. Lưu lượng dòng máu lên nuôi não vì vậy cũng giảm.\n",
      "====================================================================================================\n",
      "score:  0.49853995\n",
      "text:  Nguyên nhân gây ra bệnh lý này là do các tinh thể canxi nhỏ trong tai bị lạc chỗ. Hội chứng này có thể được cải thiện thông qua các <em>bài tập tiền đình</em> do bác sĩ hướng dẫn nhằm giúp các tinh thể canxi trở về đúng vị trí ban đầu.(5) \n",
      "<h3><strong>9.2 Viêm mê đạo tai</strong></h3> Viêm mê đạo tai là tình trạng nhiễm trùng tai trong, xảy ra khi một cấu trúc mỏng manh nằm sâu bên trong tai bị viêm. Tình trạng này không chỉ ảnh hưởng đến việc kiểm soát cân bằng và thính giác của cơ thể mà còn gây ra các triệu chứng như đau tai, ù tai, chảy mủ tai, buồn nôn và sốt cao….. \n",
      "<h3><strong>9.3 Viêm dây thần kinh tiền đình</strong></h3> Viêm dây thần kinh tiền đình là nguyên nhân gây ra các cơn chóng mặt đột ngột kèm theo buồn nôn, nôn ói và mất thăng bằng. Nguyên nhân được nghĩ nhiều nhất có thể là do siêu vi gây ra và làm ảnh hưởng đến dây thần kinh tiền đình &#8211; bộ phận truyền thông tin âm thanh và điều chỉnh cân bằng từ tai trong đến não bộ. \n",
      "<h3><strong>9.4 Bệnh Ménière</strong></h3> Bệnh Ménière là chứng rối loạn tai trong gây ra tình trạng chóng mặt, ù tai, giảm thính lực. Nguyên nhân gây ra bệnh lý này có thể là do sự gia tăng lượng dịch trong tai, do virus, dị ứng hoặc phản ứng tự miễn dịch của cơ thể. Trong một số trường hợp, bệnh có thể làm cho tình trạng giảm thính lực ngày càng trầm trọng hơn và có thể kéo dài vĩnh viễn. Việc thay đổi chế độ ăn như ăn lạt, giảm muối, cà phê, bia rượu có thể làm giảm các triệu chứng do bệnh Ménière gây ra. Đối với những trường hợp nặng cần phải can thiệp phẫu thuật để làm giảm các triệu chứng của bệnh, tuy nhiên người mắc phải bệnh lý này rất hiếm khi cần phẫu thuật. \n",
      "<h3><strong>9.5 Rò quanh ngoại dịch (PLF)</strong></h3> Rò quanh ngoại dịch tai trong là khi có một lỗ hổng hoặc khuyết điểm xuất hiện ở vị trí ngăn cách tai giữa và màng tai trong, gây ra tình trạng chóng mặt hoặc nặng hơn là mất thính lực. Rò quanh ngoại dịch có thể do bẩm sinh, chấn thương vùng đầu hoặc khiêng vác nặng gây nên.\n",
      "====================================================================================================\n",
      "score:  0.49823576\n",
      "text:  Khói thuốc lá được xem là một trong những nguyên nhân gây viêm phế quản mãn tính. \n",
      "<h3><strong>2. Thường xuyên tiếp xúc với môi trường ô nhiễm</strong></h3> Các chất thải độc hại như khí công nghiệp, chất thải hóa học, khí độc… được xem là những yếu tố nguy hiểm gây kích thích đến phổi, dẫn đến tình trạng viêm phế quản mạn tính. Do đó, những người thường xuyên làm việc trong môi trường ô nhiễm, tiếp xúc trực tiếp với các chất kích thích phổi như công nhân xây dựng, công nhân làm việc ở mỏ than, xưởng dệt vải… sẽ có nguy cơ cao <em>mắc bệnh viêm phế quản mạn tính</em>. Mọi người cần phải sử dụng các biện pháp để tự bảo vệ sức khỏe, trang bị đồ bảo hộ đạt chất lượng tốt trong suốt quá trình lao động. \n",
      "<h3><strong>3. Sức đề kháng không tốt</strong></h3> Người lớn tuổi và trẻ sơ sinh có sức đề kháng yếu; những người thường xuyên bị cảm lạnh, mắc một số bệnh cấp hoặc mạn tính làm suy giảm hệ miễn dịch rất dễ bị virus tấn công, có nguy cơ cao nhiễm bệnh viêm phế quản mãn tính. Ngoài ra, sức đề kháng yếu, không đủ sức chống chọi các tác nhân gây bệnh là nguyên nhân khiến <em>bệnh viêm phế quản cấp tính tái đi tái lại</em> nhiều lần, sau đó trở nên nghiêm trọng hơn và cuối cùng dẫn tới tình trạng viêm phế quản mạn tính. \n",
      "<h2><strong>Chẩn đoán viêm phế quản mãn tính</strong></h2> BS.CKII Trần Vũ Minh Phát cho biết, bệnh viêm phế quản mãn tính có thể bị nhầm lẫn với những bệnh lý đường hô hấp khác như: bệnh phổi tắc nghẽn mạn tính, hen phế quản, viêm phổi… do không gây ra những triệu chứng điển hình. Để xác định bệnh và đưa ra phác đồ điều trị phù hợp, bác sĩ sẽ thực hiện thăm khám lâm sàng, sau đó chỉ định người bệnh thực hiện các xét nghiệm cần thiết sau: (4) \n",
      "<h3><strong>1.\n",
      "====================================================================================================\n",
      "score:  0.49736997\n",
      "text:  Đột quỵ có thể xảy ra do các bệnh lý khác ngoài bệnh động mạch cảnh. Ví dụ, chảy máu đột ngột trong não (xuất huyết não) có thể gây ra đột quỵ. Các nguyên nhân khác có thể bao gồm:  Rung tâm nhĩ Bệnh cơ tim <strong>Tăng huyết áp</strong> Xuất huyết trong khoang dịch tủy sống Tắc nghẽn các động mạch nhỏ bên trong não   Các yếu tố rủi ro đối với bệnh là gì? Cũng tương tự như đối với các bệnh tim mạch khác, bao gồm:  Tăng huyết áp Tuổi tác Hút thuốc Lipid bất thường hoặc cholesterol cao Kháng insulin Bệnh đái tháo đường Béo phì Lối sống ít vận động Tiền sử gia đình bị <strong>xơ vữa động mạch</strong>, <strong>bệnh động mạch vành</strong> hoặc bệnh động mạch cảnh   Nam giới dưới 75 tuổi có nguy cơ mắc bệnh cao hơn phụ nữ trong cùng nhóm tuổi. Phụ nữ có nguy cơ cao hơn nam giới trên 75 tuổi. Những người bị bệnh động mạch vành có nguy cơ phát triển bệnh cao hơn. \n",
      "<h2>Phương pháp chẩn đoán</h2> Bệnh động mạch cảnh thường không có triệu chứng cho đến khi bạn bị cơn thiếu máu não thoáng qua hoặc đột quỵ. Đó là lý do tại sao điều quan trọng là cần phải tầm soát và khám bác sĩ thường xuyên để kiểm tra bất thường động mạch cảnh để xử lý kịp thời. Lắng nghe tiếng thổi ở cổ là một cách đơn giản, an toàn để sàng lọc chứng <strong>hẹp động mạch cảnh</strong>, mặc dù nó có thể không phát hiện ra tất cả các chỗ tắc nghẽn. Bác sĩ khám, nghe các động mạch ở cổ người bệnh bằng ống nghe. Nếu có một âm thanh bất thường (được gọi là tiếng thổi) xuất hiện trong động mạch, điều này có thể phản ánh dòng máu chảy hỗn loạn và chỉ ra bệnh động mạch cảnh. Một số chuyên gia tin rằng tiếng thổi có thể là yếu tố dự báo về bệnh xơ vữa động mạch hơn là nguy cơ đột quỵ. Bác sĩ cũng có thể sử dụng một số phương pháp chẩn đoán bệnh, bao gồm:  <strong>Siêu âm động mạch cảnh (tiêu chuẩn hoặc Doppler):</strong> Đây là bước đầu tiên sàng lọc không xâm lấn, không đau.\n",
      "====================================================================================================\n"
     ]
    }
   ],
   "source": [
    "for i in response.source_nodes:\n",
    "    print('score: ', i.score)\n",
    "    print('text: ', i.text)\n",
    "    print('='*100)"
   ]
  },
  {
   "cell_type": "code",
   "execution_count": null,
   "id": "f91413e9-69dc-48c0-a865-01719262ffb3",
   "metadata": {
    "scrolled": true
   },
   "outputs": [],
   "source": [
    "print(response.metadata)"
   ]
  },
  {
   "cell_type": "markdown",
   "id": "7adcd10f",
   "metadata": {},
   "source": [
    "# 2. Đánh giá RAG"
   ]
  },
  {
   "cell_type": "code",
   "execution_count": null,
   "id": "ba7e46b0",
   "metadata": {},
   "outputs": [],
   "source": [
    "import pandas as pd\n",
    "\n",
    "df = pd.read_csv('/Users/duongtrongchi/project/RAG/rag-app/test/test_case.csv')\n",
    "\n",
    "df.head()"
   ]
  },
  {
   "cell_type": "code",
   "execution_count": null,
   "id": "5e3d6140",
   "metadata": {},
   "outputs": [],
   "source": [
    "from llama_index.evaluation import SemanticSimilarityEvaluator\n",
    "from llama_index.embeddings import SimilarityMode\n",
    "\n",
    "\n",
    "evaluator = SemanticSimilarityEvaluator(\n",
    "    similarity_mode=SimilarityMode.DEFAULT,\n",
    "    similarity_threshold=0.9,\n",
    ")\n",
    "\n",
    "list_res = []\n",
    "list_result = []\n",
    "passed = []\n",
    "for i in range(0, len(df)):\n",
    "    reference = df['References'][i]\n",
    "    response = query_engine.query(df['Questions'][i])\n",
    "\n",
    "    result = await evaluator.aevaluate(\n",
    "        response=response.response,\n",
    "        reference=reference,\n",
    "    )\n",
    "\n",
    "    list_res.append(response.response)\n",
    "    list_result.append(result.score)\n",
    "    passed.append(result.passing)\n"
   ]
  },
  {
   "cell_type": "code",
   "execution_count": null,
   "id": "d410d041",
   "metadata": {},
   "outputs": [],
   "source": [
    "df['Result'] = list_result\n",
    "df['Passed'] = passed\n",
    "df['Responses'] = list_res"
   ]
  },
  {
   "cell_type": "code",
   "execution_count": null,
   "id": "bc73f281",
   "metadata": {},
   "outputs": [],
   "source": [
    "df.to_csv('../results.csv', index=False)"
   ]
  },
  {
   "cell_type": "code",
   "execution_count": null,
   "id": "34dccbb0",
   "metadata": {},
   "outputs": [],
   "source": [
    "response = query_engine.query(\n",
    "    \"Đối tượng nào dễ bị xuất huyết bao tử?\",\n",
    ")\n",
    "\n",
    "\n",
    "print(response)"
   ]
  },
  {
   "cell_type": "code",
   "execution_count": null,
   "id": "15e10a05",
   "metadata": {},
   "outputs": [],
   "source": [
    "print(response.source_nodes)"
   ]
  },
  {
   "cell_type": "code",
   "execution_count": null,
   "id": "4b205fe9",
   "metadata": {},
   "outputs": [],
   "source": [
    "# Embedding Similarity Evaluator\n",
    "\n",
    "from llama_index.evaluation import SemanticSimilarityEvaluator\n",
    "from llama_index.embeddings import SimilarityMode\n",
    "\n",
    "\n",
    "evaluator = SemanticSimilarityEvaluator(\n",
    "    similarity_mode=SimilarityMode.DEFAULT,\n",
    "    similarity_threshold=0.9,\n",
    ")\n",
    "\n",
    "reference = \"\"\"\n",
    "<h2><strong>Đối tượng nào dễ bị xuất huyết bao tử?</strong></h2> Xuất huyết dạ dày là tình trạng bệnh lý xảy ra phổ biến ở độ tuổi từ 20 &#8211; 50 tuổi, trong đó nam giới thường chiếm tỷ lệ cao hơn nữ giới bởi có xu hướng uống nhiều rượu bia hơn. Người lớn tuổi hay dùng các thuốc giảm đau chống viêm Non-steroid hoặc Aspirin cung có nguy cơ cao xuất huyết tiêu hóa.\n",
    "\"\"\"\n",
    "\n",
    "response = query_engine.query(\n",
    "    \"Bệnh bạch hầu là gì?\",\n",
    ")\n",
    "\n",
    "result = await evaluator.aevaluate(\n",
    "    response=response.response,\n",
    "    reference=reference,\n",
    ")\n",
    "\n",
    "print(\"Score: \", result.score)\n",
    "print(\"Passing: \", result.passing)"
   ]
  }
 ],
 "metadata": {
  "kernelspec": {
   "display_name": "Python 3 (ipykernel)",
   "language": "python",
   "name": "python3"
  },
  "language_info": {
   "codemirror_mode": {
    "name": "ipython",
    "version": 3
   },
   "file_extension": ".py",
   "mimetype": "text/x-python",
   "name": "python",
   "nbconvert_exporter": "python",
   "pygments_lexer": "ipython3",
   "version": "3.9.18"
  },
  "widgets": {
   "application/vnd.jupyter.widget-state+json": {
    "state": {
     "124e874a8d2c4e2b98c91d064ab4f5ca": {
      "model_module": "@jupyter-widgets/controls",
      "model_module_version": "2.0.0",
      "model_name": "HBoxModel",
      "state": {
       "children": [
        "IPY_MODEL_45a11006b40140eaa4174a31f6febd06",
        "IPY_MODEL_e7a1378f7a48421a9697458d5cb017a3",
        "IPY_MODEL_bc27721800a34afa92c4bcce4a116280"
       ],
       "layout": "IPY_MODEL_b210460c681846629d036bfa98288525"
      }
     },
     "3e2ac8e3b7644916acd484a7d24f2410": {
      "model_module": "@jupyter-widgets/controls",
      "model_module_version": "2.0.0",
      "model_name": "ProgressStyleModel",
      "state": {
       "description_width": ""
      }
     },
     "41079df227414da9b41d9fbcd1d24b42": {
      "model_module": "@jupyter-widgets/controls",
      "model_module_version": "2.0.0",
      "model_name": "HTMLStyleModel",
      "state": {
       "description_width": "",
       "font_size": null,
       "text_color": null
      }
     },
     "45a11006b40140eaa4174a31f6febd06": {
      "model_module": "@jupyter-widgets/controls",
      "model_module_version": "2.0.0",
      "model_name": "HTMLModel",
      "state": {
       "layout": "IPY_MODEL_6d515ebb13c84e0b9ec0bfbb9a5a6e80",
       "style": "IPY_MODEL_88520554f9474fef9ff7b801c7cf87b2",
       "value": "Batches: 100%"
      }
     },
     "6d515ebb13c84e0b9ec0bfbb9a5a6e80": {
      "model_module": "@jupyter-widgets/base",
      "model_module_version": "2.0.0",
      "model_name": "LayoutModel",
      "state": {}
     },
     "88520554f9474fef9ff7b801c7cf87b2": {
      "model_module": "@jupyter-widgets/controls",
      "model_module_version": "2.0.0",
      "model_name": "HTMLStyleModel",
      "state": {
       "description_width": "",
       "font_size": null,
       "text_color": null
      }
     },
     "9955c5dffd73446d8cf286331929d601": {
      "model_module": "@jupyter-widgets/base",
      "model_module_version": "2.0.0",
      "model_name": "LayoutModel",
      "state": {}
     },
     "b210460c681846629d036bfa98288525": {
      "model_module": "@jupyter-widgets/base",
      "model_module_version": "2.0.0",
      "model_name": "LayoutModel",
      "state": {}
     },
     "bc27721800a34afa92c4bcce4a116280": {
      "model_module": "@jupyter-widgets/controls",
      "model_module_version": "2.0.0",
      "model_name": "HTMLModel",
      "state": {
       "layout": "IPY_MODEL_c879552d4c9a494781e6c7e10c095fe4",
       "style": "IPY_MODEL_41079df227414da9b41d9fbcd1d24b42",
       "value": " 1/1 [00:01&lt;00:00,  1.44s/it]"
      }
     },
     "c879552d4c9a494781e6c7e10c095fe4": {
      "model_module": "@jupyter-widgets/base",
      "model_module_version": "2.0.0",
      "model_name": "LayoutModel",
      "state": {}
     },
     "e7a1378f7a48421a9697458d5cb017a3": {
      "model_module": "@jupyter-widgets/controls",
      "model_module_version": "2.0.0",
      "model_name": "FloatProgressModel",
      "state": {
       "bar_style": "success",
       "layout": "IPY_MODEL_9955c5dffd73446d8cf286331929d601",
       "max": 1,
       "style": "IPY_MODEL_3e2ac8e3b7644916acd484a7d24f2410",
       "value": 1
      }
     }
    },
    "version_major": 2,
    "version_minor": 0
   }
  }
 },
 "nbformat": 4,
 "nbformat_minor": 5
}
