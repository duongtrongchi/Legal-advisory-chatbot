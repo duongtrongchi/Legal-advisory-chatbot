{
 "cells": [
  {
   "cell_type": "code",
   "execution_count": 1,
   "id": "a465abd3-96fa-4fda-94c4-a7c65938bb01",
   "metadata": {},
   "outputs": [
    {
     "name": "stdout",
     "output_type": "stream",
     "text": [
      "--2023-12-23 00:18:36--  https://www.dropbox.com/s/f6bmb19xdg0xedm/paul_graham_essay.txt?dl=1\n",
      "Resolving www.dropbox.com (www.dropbox.com)... 2620:100:6019:18::a27d:412, 162.125.81.18\n",
      "Connecting to www.dropbox.com (www.dropbox.com)|2620:100:6019:18::a27d:412|:443... connected.\n",
      "HTTP request sent, awaiting response... 302 Found\n",
      "Location: /s/dl/f6bmb19xdg0xedm/paul_graham_essay.txt [following]\n",
      "--2023-12-23 00:18:38--  https://www.dropbox.com/s/dl/f6bmb19xdg0xedm/paul_graham_essay.txt\n",
      "Reusing existing connection to [www.dropbox.com]:443.\n",
      "HTTP request sent, awaiting response... 302 Found\n",
      "Location: https://uc1a5fde3d5df5cdf3c42baf0b99.dl.dropboxusercontent.com/cd/0/get/CJ6YlyQItbCldHKh-Cz37wA8Yy3L4-5FzG14jEW9xKSBaLOCnsbzl5fWeZG5fmPlYXHqEvQQ53jJBbK-UVXNtt8oIByHEKP1gXWevu6ldV5w45AEY_pmynLvP1wWdvTTerQ1maVmXbixdIZyEjrtcOH3/file?dl=1# [following]\n",
      "--2023-12-23 00:18:39--  https://uc1a5fde3d5df5cdf3c42baf0b99.dl.dropboxusercontent.com/cd/0/get/CJ6YlyQItbCldHKh-Cz37wA8Yy3L4-5FzG14jEW9xKSBaLOCnsbzl5fWeZG5fmPlYXHqEvQQ53jJBbK-UVXNtt8oIByHEKP1gXWevu6ldV5w45AEY_pmynLvP1wWdvTTerQ1maVmXbixdIZyEjrtcOH3/file?dl=1\n",
      "Resolving uc1a5fde3d5df5cdf3c42baf0b99.dl.dropboxusercontent.com (uc1a5fde3d5df5cdf3c42baf0b99.dl.dropboxusercontent.com)... 2620:100:6019:15::a27d:40f, 162.125.81.15\n",
      "Connecting to uc1a5fde3d5df5cdf3c42baf0b99.dl.dropboxusercontent.com (uc1a5fde3d5df5cdf3c42baf0b99.dl.dropboxusercontent.com)|2620:100:6019:15::a27d:40f|:443... connected.\n",
      "HTTP request sent, awaiting response... 200 OK\n",
      "Length: 75047 (73K) [application/binary]\n",
      "Saving to: ‘paul_graham_essay.txt’\n",
      "\n",
      "paul_graham_essay.t 100%[===================>]  73.29K   158KB/s    in 0.5s    \n",
      "\n",
      "2023-12-23 00:18:41 (158 KB/s) - ‘paul_graham_essay.txt’ saved [75047/75047]\n",
      "\n"
     ]
    }
   ],
   "source": [
    "!wget \"https://www.dropbox.com/s/f6bmb19xdg0xedm/paul_graham_essay.txt?dl=1\" -O paul_graham_essay.txt\n"
   ]
  },
  {
   "cell_type": "code",
   "execution_count": 2,
   "id": "3dbb867b-c7b4-49b2-9480-89db71e30a31",
   "metadata": {},
   "outputs": [],
   "source": [
    "from llama_index import SimpleDirectoryReader\n",
    "\n",
    "# load in some sample data\n",
    "reader = SimpleDirectoryReader(input_files=[\"paul_graham_essay.txt\"])\n",
    "documents = reader.load_data()"
   ]
  },
  {
   "cell_type": "code",
   "execution_count": null,
   "id": "4a79b553-a9be-4ee2-a1b4-77e0685b9a5c",
   "metadata": {
    "scrolled": true
   },
   "outputs": [
    {
     "name": "stdout",
     "output_type": "stream",
     "text": [
      "Requirement already satisfied: torch in /Users/duongtrongchi/miniconda3/envs/rag/lib/python3.9/site-packages (from -r zephyr_pack/requirements.txt (line 1)) (2.1.2)\n",
      "Requirement already satisfied: transformers in /Users/duongtrongchi/miniconda3/envs/rag/lib/python3.9/site-packages (from -r zephyr_pack/requirements.txt (line 2)) (4.36.1)\n",
      "Collecting accelerate (from -r zephyr_pack/requirements.txt (line 3))\n",
      "  Downloading accelerate-0.25.0-py3-none-any.whl.metadata (18 kB)\n",
      "Collecting bitsandbytes (from -r zephyr_pack/requirements.txt (line 4))\n",
      "  Downloading bitsandbytes-0.41.3.post2-py3-none-any.whl.metadata (9.8 kB)\n",
      "Requirement already satisfied: filelock in /Users/duongtrongchi/miniconda3/envs/rag/lib/python3.9/site-packages (from torch->-r zephyr_pack/requirements.txt (line 1)) (3.13.1)\n",
      "Requirement already satisfied: typing-extensions in /Users/duongtrongchi/miniconda3/envs/rag/lib/python3.9/site-packages (from torch->-r zephyr_pack/requirements.txt (line 1)) (4.9.0)\n",
      "Requirement already satisfied: sympy in /Users/duongtrongchi/miniconda3/envs/rag/lib/python3.9/site-packages (from torch->-r zephyr_pack/requirements.txt (line 1)) (1.12)\n",
      "Requirement already satisfied: networkx in /Users/duongtrongchi/miniconda3/envs/rag/lib/python3.9/site-packages (from torch->-r zephyr_pack/requirements.txt (line 1)) (3.2.1)\n",
      "Requirement already satisfied: jinja2 in /Users/duongtrongchi/miniconda3/envs/rag/lib/python3.9/site-packages (from torch->-r zephyr_pack/requirements.txt (line 1)) (3.1.2)\n",
      "Requirement already satisfied: fsspec in /Users/duongtrongchi/miniconda3/envs/rag/lib/python3.9/site-packages (from torch->-r zephyr_pack/requirements.txt (line 1)) (2023.12.2)\n",
      "Requirement already satisfied: huggingface-hub<1.0,>=0.19.3 in /Users/duongtrongchi/miniconda3/envs/rag/lib/python3.9/site-packages (from transformers->-r zephyr_pack/requirements.txt (line 2)) (0.19.4)\n",
      "Requirement already satisfied: numpy>=1.17 in /Users/duongtrongchi/miniconda3/envs/rag/lib/python3.9/site-packages (from transformers->-r zephyr_pack/requirements.txt (line 2)) (1.24.4)\n",
      "Requirement already satisfied: packaging>=20.0 in /Users/duongtrongchi/miniconda3/envs/rag/lib/python3.9/site-packages (from transformers->-r zephyr_pack/requirements.txt (line 2)) (23.2)\n",
      "Requirement already satisfied: pyyaml>=5.1 in /Users/duongtrongchi/miniconda3/envs/rag/lib/python3.9/site-packages (from transformers->-r zephyr_pack/requirements.txt (line 2)) (6.0.1)\n",
      "Requirement already satisfied: regex!=2019.12.17 in /Users/duongtrongchi/miniconda3/envs/rag/lib/python3.9/site-packages (from transformers->-r zephyr_pack/requirements.txt (line 2)) (2023.10.3)\n",
      "Requirement already satisfied: requests in /Users/duongtrongchi/miniconda3/envs/rag/lib/python3.9/site-packages (from transformers->-r zephyr_pack/requirements.txt (line 2)) (2.31.0)\n",
      "Requirement already satisfied: tokenizers<0.19,>=0.14 in /Users/duongtrongchi/miniconda3/envs/rag/lib/python3.9/site-packages (from transformers->-r zephyr_pack/requirements.txt (line 2)) (0.15.0)\n",
      "Requirement already satisfied: safetensors>=0.3.1 in /Users/duongtrongchi/miniconda3/envs/rag/lib/python3.9/site-packages (from transformers->-r zephyr_pack/requirements.txt (line 2)) (0.4.1)\n",
      "Requirement already satisfied: tqdm>=4.27 in /Users/duongtrongchi/miniconda3/envs/rag/lib/python3.9/site-packages (from transformers->-r zephyr_pack/requirements.txt (line 2)) (4.66.1)\n",
      "Requirement already satisfied: psutil in /Users/duongtrongchi/miniconda3/envs/rag/lib/python3.9/site-packages (from accelerate->-r zephyr_pack/requirements.txt (line 3)) (5.9.7)\n",
      "Requirement already satisfied: MarkupSafe>=2.0 in /Users/duongtrongchi/miniconda3/envs/rag/lib/python3.9/site-packages (from jinja2->torch->-r zephyr_pack/requirements.txt (line 1)) (2.1.3)\n",
      "Requirement already satisfied: charset-normalizer<4,>=2 in /Users/duongtrongchi/miniconda3/envs/rag/lib/python3.9/site-packages (from requests->transformers->-r zephyr_pack/requirements.txt (line 2)) (3.3.2)\n",
      "Requirement already satisfied: idna<4,>=2.5 in /Users/duongtrongchi/miniconda3/envs/rag/lib/python3.9/site-packages (from requests->transformers->-r zephyr_pack/requirements.txt (line 2)) (3.6)\n",
      "Requirement already satisfied: urllib3<3,>=1.21.1 in /Users/duongtrongchi/miniconda3/envs/rag/lib/python3.9/site-packages (from requests->transformers->-r zephyr_pack/requirements.txt (line 2)) (2.1.0)\n",
      "Requirement already satisfied: certifi>=2017.4.17 in /Users/duongtrongchi/miniconda3/envs/rag/lib/python3.9/site-packages (from requests->transformers->-r zephyr_pack/requirements.txt (line 2)) (2023.11.17)\n",
      "Requirement already satisfied: mpmath>=0.19 in /Users/duongtrongchi/miniconda3/envs/rag/lib/python3.9/site-packages (from sympy->torch->-r zephyr_pack/requirements.txt (line 1)) (1.3.0)\n",
      "Downloading accelerate-0.25.0-py3-none-any.whl (265 kB)\n",
      "\u001b[2K   \u001b[90m━━━━━━━━━━━━━━━━━━━━━━━━━━━━━━━━━━━━━━━\u001b[0m \u001b[32m265.7/265.7 kB\u001b[0m \u001b[31m914.2 kB/s\u001b[0m eta \u001b[36m0:00:00\u001b[0ma \u001b[36m0:00:01\u001b[0m\n",
      "\u001b[?25hDownloading bitsandbytes-0.41.3.post2-py3-none-any.whl (92.6 MB)\n",
      "\u001b[2K   \u001b[90m━━━━━━━━━━━━━━━━━━━━━━━━━━━━━━━━━━━━━━━━\u001b[0m \u001b[32m92.6/92.6 MB\u001b[0m \u001b[31m285.9 kB/s\u001b[0m eta \u001b[36m0:00:00\u001b[0m00:01\u001b[0m00:08\u001b[0m\n",
      "\u001b[?25hInstalling collected packages: bitsandbytes, accelerate\n",
      "Successfully installed accelerate-0.25.0 bitsandbytes-0.41.3.post2\n"
     ]
    },
    {
     "data": {
      "application/vnd.jupyter.widget-view+json": {
       "model_id": "4b4d234ff53944a9905e9e1b288ef903",
       "version_major": 2,
       "version_minor": 0
      },
      "text/plain": [
       "config.json:   0%|          | 0.00/638 [00:00<?, ?B/s]"
      ]
     },
     "metadata": {},
     "output_type": "display_data"
    },
    {
     "name": "stdout",
     "output_type": "stream",
     "text": [
      "Failed to load and quantize model, likely due to CUDA being missing. Loading full precision model instead.\n"
     ]
    },
    {
     "data": {
      "application/vnd.jupyter.widget-view+json": {
       "model_id": "56182541711d495cb341e54a4a996d70",
       "version_major": 2,
       "version_minor": 0
      },
      "text/plain": [
       "model.safetensors.index.json:   0%|          | 0.00/23.9k [00:00<?, ?B/s]"
      ]
     },
     "metadata": {},
     "output_type": "display_data"
    },
    {
     "data": {
      "application/vnd.jupyter.widget-view+json": {
       "model_id": "50eca71112674d9e9fb0e4af9b37408d",
       "version_major": 2,
       "version_minor": 0
      },
      "text/plain": [
       "Downloading shards:   0%|          | 0/8 [00:00<?, ?it/s]"
      ]
     },
     "metadata": {},
     "output_type": "display_data"
    },
    {
     "data": {
      "application/vnd.jupyter.widget-view+json": {
       "model_id": "c84b033450d845bd938dd73dd76ec1bd",
       "version_major": 2,
       "version_minor": 0
      },
      "text/plain": [
       "model-00001-of-00008.safetensors:   0%|          | 0.00/1.89G [00:00<?, ?B/s]"
      ]
     },
     "metadata": {},
     "output_type": "display_data"
    }
   ],
   "source": [
    "from llama_index.llama_pack import download_llama_pack\n",
    "\n",
    "# download and install dependencies\n",
    "ZephyrQueryEnginePack = download_llama_pack(\n",
    "  \"ZephyrQueryEnginePack\", \"./zephyr_pack\"\n",
    ")\n",
    "\n",
    "# You can use any llama-hub loader to get documents!\n",
    "zephyr_pack = ZephyrQueryEnginePack(documents)"
   ]
  },
  {
   "cell_type": "code",
   "execution_count": null,
   "id": "9458732d-97b7-4289-8b1e-6d26b8672cf3",
   "metadata": {},
   "outputs": [],
   "source": [
    "response = zephyr_pack.run(\"What did the author do growing up?\", similarity_top_k=2)"
   ]
  }
 ],
 "metadata": {
  "kernelspec": {
   "display_name": "Python 3 (ipykernel)",
   "language": "python",
   "name": "python3"
  },
  "language_info": {
   "codemirror_mode": {
    "name": "ipython",
    "version": 3
   },
   "file_extension": ".py",
   "mimetype": "text/x-python",
   "name": "python",
   "nbconvert_exporter": "python",
   "pygments_lexer": "ipython3",
   "version": "3.9.18"
  },
  "widgets": {
   "application/vnd.jupyter.widget-state+json": {
    "state": {
     "064fc3151f66461db54333cb6b5b1f4e": {
      "model_module": "@jupyter-widgets/base",
      "model_module_version": "2.0.0",
      "model_name": "LayoutModel",
      "state": {}
     },
     "074a6f162b1b4fc8b074a762a2d27acd": {
      "model_module": "@jupyter-widgets/base",
      "model_module_version": "2.0.0",
      "model_name": "LayoutModel",
      "state": {}
     },
     "07e33a522e044eebbea88fb9f77c2484": {
      "model_module": "@jupyter-widgets/base",
      "model_module_version": "2.0.0",
      "model_name": "LayoutModel",
      "state": {}
     },
     "0b7dc42b978b4e329a62baa022a969c0": {
      "model_module": "@jupyter-widgets/controls",
      "model_module_version": "2.0.0",
      "model_name": "HTMLModel",
      "state": {
       "layout": "IPY_MODEL_b5b56bc6bf864c37a099c2f0934daeb7",
       "style": "IPY_MODEL_95c7d82ea488418882951e45b2527b2f",
       "value": " 0/8 [00:00&lt;?, ?it/s]"
      }
     },
     "0f8efa0386db4ccc8dce0961661efefc": {
      "model_module": "@jupyter-widgets/controls",
      "model_module_version": "2.0.0",
      "model_name": "ProgressStyleModel",
      "state": {
       "description_width": ""
      }
     },
     "109be8305bb84e0087ec342b5bdb90bc": {
      "model_module": "@jupyter-widgets/base",
      "model_module_version": "2.0.0",
      "model_name": "LayoutModel",
      "state": {}
     },
     "11c335c83a1e43ce93199a9cacb18805": {
      "model_module": "@jupyter-widgets/controls",
      "model_module_version": "2.0.0",
      "model_name": "HTMLModel",
      "state": {
       "layout": "IPY_MODEL_87a5695e2b424e1dae378f207f84388b",
       "style": "IPY_MODEL_8c9b65ab478846b4ad4d6fd4fe224a31",
       "value": "model-00001-of-00008.safetensors:   1%"
      }
     },
     "15fa95ac558640ae8690de8c6467a4fa": {
      "model_module": "@jupyter-widgets/controls",
      "model_module_version": "2.0.0",
      "model_name": "HTMLStyleModel",
      "state": {
       "description_width": "",
       "font_size": null,
       "text_color": null
      }
     },
     "1b5317aa82ab4f38b6d1866d890d9c4f": {
      "model_module": "@jupyter-widgets/controls",
      "model_module_version": "2.0.0",
      "model_name": "HTMLModel",
      "state": {
       "layout": "IPY_MODEL_5c98966848264c15825825d1dc00fe94",
       "style": "IPY_MODEL_db156598d08a4f45a084df4bb00be84b",
       "value": "Downloading shards:   0%"
      }
     },
     "1ebc08ba7660496d8a8f0e8af260456e": {
      "model_module": "@jupyter-widgets/controls",
      "model_module_version": "2.0.0",
      "model_name": "HTMLModel",
      "state": {
       "layout": "IPY_MODEL_4dec225cae844c3cabb9a31fcebefd1d",
       "style": "IPY_MODEL_68eafbb2e8084e55b5033148a555c926",
       "value": " 21.0M/1.89G [01:28&lt;1:57:13, 266kB/s]"
      }
     },
     "24345f5c329448eeb76a430b76c3b661": {
      "model_module": "@jupyter-widgets/controls",
      "model_module_version": "2.0.0",
      "model_name": "HTMLStyleModel",
      "state": {
       "description_width": "",
       "font_size": null,
       "text_color": null
      }
     },
     "44109f7f52d7450d90d480a80e75df0f": {
      "model_module": "@jupyter-widgets/base",
      "model_module_version": "2.0.0",
      "model_name": "LayoutModel",
      "state": {}
     },
     "44da3dfc7abf48cabd7ee4ab5bd7a84f": {
      "model_module": "@jupyter-widgets/controls",
      "model_module_version": "2.0.0",
      "model_name": "HTMLModel",
      "state": {
       "layout": "IPY_MODEL_aba5105e768646cf97cd129b0dfd2205",
       "style": "IPY_MODEL_24345f5c329448eeb76a430b76c3b661",
       "value": " 23.9k/23.9k [00:00&lt;00:00, 445kB/s]"
      }
     },
     "4b4d234ff53944a9905e9e1b288ef903": {
      "model_module": "@jupyter-widgets/controls",
      "model_module_version": "2.0.0",
      "model_name": "HBoxModel",
      "state": {
       "children": [
        "IPY_MODEL_9eeeaf6f41b748ae8203604d4dde74a5",
        "IPY_MODEL_d2172d7a8e754dfdaec2ceec13bbc04a",
        "IPY_MODEL_5048a43d9aea48b892ae3396dcb33470"
       ],
       "layout": "IPY_MODEL_924c5810491a480495ca5d5eea9c9f8f"
      }
     },
     "4dec225cae844c3cabb9a31fcebefd1d": {
      "model_module": "@jupyter-widgets/base",
      "model_module_version": "2.0.0",
      "model_name": "LayoutModel",
      "state": {}
     },
     "5048a43d9aea48b892ae3396dcb33470": {
      "model_module": "@jupyter-widgets/controls",
      "model_module_version": "2.0.0",
      "model_name": "HTMLModel",
      "state": {
       "layout": "IPY_MODEL_526563e84b1149a8bb6a683b4f341865",
       "style": "IPY_MODEL_508f95d3ceec4966801d0cce3bbddf52",
       "value": " 638/638 [00:00&lt;00:00, 42.6kB/s]"
      }
     },
     "508f95d3ceec4966801d0cce3bbddf52": {
      "model_module": "@jupyter-widgets/controls",
      "model_module_version": "2.0.0",
      "model_name": "HTMLStyleModel",
      "state": {
       "description_width": "",
       "font_size": null,
       "text_color": null
      }
     },
     "50eca71112674d9e9fb0e4af9b37408d": {
      "model_module": "@jupyter-widgets/controls",
      "model_module_version": "2.0.0",
      "model_name": "HBoxModel",
      "state": {
       "children": [
        "IPY_MODEL_1b5317aa82ab4f38b6d1866d890d9c4f",
        "IPY_MODEL_69d68e8c722e4617bed329cd7d615415",
        "IPY_MODEL_0b7dc42b978b4e329a62baa022a969c0"
       ],
       "layout": "IPY_MODEL_07e33a522e044eebbea88fb9f77c2484"
      }
     },
     "526563e84b1149a8bb6a683b4f341865": {
      "model_module": "@jupyter-widgets/base",
      "model_module_version": "2.0.0",
      "model_name": "LayoutModel",
      "state": {}
     },
     "56182541711d495cb341e54a4a996d70": {
      "model_module": "@jupyter-widgets/controls",
      "model_module_version": "2.0.0",
      "model_name": "HBoxModel",
      "state": {
       "children": [
        "IPY_MODEL_76998c5429874385b49a37258200771a",
        "IPY_MODEL_a61dfd3dfd404f439b784bfd13e85c69",
        "IPY_MODEL_44da3dfc7abf48cabd7ee4ab5bd7a84f"
       ],
       "layout": "IPY_MODEL_109be8305bb84e0087ec342b5bdb90bc"
      }
     },
     "58c52a94756a4faa807d8414f07260c2": {
      "model_module": "@jupyter-widgets/controls",
      "model_module_version": "2.0.0",
      "model_name": "FloatProgressModel",
      "state": {
       "layout": "IPY_MODEL_064fc3151f66461db54333cb6b5b1f4e",
       "max": 1889587040,
       "style": "IPY_MODEL_f311959fbf9540a5a3c5c436dcb54699",
       "value": 20971520
      }
     },
     "5a9f4386e1a84843bbde9318d049ceeb": {
      "model_module": "@jupyter-widgets/base",
      "model_module_version": "2.0.0",
      "model_name": "LayoutModel",
      "state": {}
     },
     "5c98966848264c15825825d1dc00fe94": {
      "model_module": "@jupyter-widgets/base",
      "model_module_version": "2.0.0",
      "model_name": "LayoutModel",
      "state": {}
     },
     "68eafbb2e8084e55b5033148a555c926": {
      "model_module": "@jupyter-widgets/controls",
      "model_module_version": "2.0.0",
      "model_name": "HTMLStyleModel",
      "state": {
       "description_width": "",
       "font_size": null,
       "text_color": null
      }
     },
     "69d68e8c722e4617bed329cd7d615415": {
      "model_module": "@jupyter-widgets/controls",
      "model_module_version": "2.0.0",
      "model_name": "FloatProgressModel",
      "state": {
       "layout": "IPY_MODEL_6f9bde91850e49f591d6f97fdb4a4353",
       "max": 8,
       "style": "IPY_MODEL_e000cb1b4c504de29cfa711f72984e3f"
      }
     },
     "6f9bde91850e49f591d6f97fdb4a4353": {
      "model_module": "@jupyter-widgets/base",
      "model_module_version": "2.0.0",
      "model_name": "LayoutModel",
      "state": {}
     },
     "739e5e2b7d984283ab86217d38c77644": {
      "model_module": "@jupyter-widgets/base",
      "model_module_version": "2.0.0",
      "model_name": "LayoutModel",
      "state": {}
     },
     "76998c5429874385b49a37258200771a": {
      "model_module": "@jupyter-widgets/controls",
      "model_module_version": "2.0.0",
      "model_name": "HTMLModel",
      "state": {
       "layout": "IPY_MODEL_44109f7f52d7450d90d480a80e75df0f",
       "style": "IPY_MODEL_b14adf6812b9434abb276990fbb7019b",
       "value": "model.safetensors.index.json: 100%"
      }
     },
     "87a5695e2b424e1dae378f207f84388b": {
      "model_module": "@jupyter-widgets/base",
      "model_module_version": "2.0.0",
      "model_name": "LayoutModel",
      "state": {}
     },
     "8c9b65ab478846b4ad4d6fd4fe224a31": {
      "model_module": "@jupyter-widgets/controls",
      "model_module_version": "2.0.0",
      "model_name": "HTMLStyleModel",
      "state": {
       "description_width": "",
       "font_size": null,
       "text_color": null
      }
     },
     "924c5810491a480495ca5d5eea9c9f8f": {
      "model_module": "@jupyter-widgets/base",
      "model_module_version": "2.0.0",
      "model_name": "LayoutModel",
      "state": {}
     },
     "95c7d82ea488418882951e45b2527b2f": {
      "model_module": "@jupyter-widgets/controls",
      "model_module_version": "2.0.0",
      "model_name": "HTMLStyleModel",
      "state": {
       "description_width": "",
       "font_size": null,
       "text_color": null
      }
     },
     "9eeeaf6f41b748ae8203604d4dde74a5": {
      "model_module": "@jupyter-widgets/controls",
      "model_module_version": "2.0.0",
      "model_name": "HTMLModel",
      "state": {
       "layout": "IPY_MODEL_ce6df3ba3b2d4a2a82523fd31788a700",
       "style": "IPY_MODEL_15fa95ac558640ae8690de8c6467a4fa",
       "value": "config.json: 100%"
      }
     },
     "a61dfd3dfd404f439b784bfd13e85c69": {
      "model_module": "@jupyter-widgets/controls",
      "model_module_version": "2.0.0",
      "model_name": "FloatProgressModel",
      "state": {
       "bar_style": "success",
       "layout": "IPY_MODEL_074a6f162b1b4fc8b074a762a2d27acd",
       "max": 23950,
       "style": "IPY_MODEL_f7f57916cd644ef39f534a859517dc66",
       "value": 23950
      }
     },
     "aba5105e768646cf97cd129b0dfd2205": {
      "model_module": "@jupyter-widgets/base",
      "model_module_version": "2.0.0",
      "model_name": "LayoutModel",
      "state": {}
     },
     "b14adf6812b9434abb276990fbb7019b": {
      "model_module": "@jupyter-widgets/controls",
      "model_module_version": "2.0.0",
      "model_name": "HTMLStyleModel",
      "state": {
       "description_width": "",
       "font_size": null,
       "text_color": null
      }
     },
     "b5b56bc6bf864c37a099c2f0934daeb7": {
      "model_module": "@jupyter-widgets/base",
      "model_module_version": "2.0.0",
      "model_name": "LayoutModel",
      "state": {}
     },
     "c84b033450d845bd938dd73dd76ec1bd": {
      "model_module": "@jupyter-widgets/controls",
      "model_module_version": "2.0.0",
      "model_name": "HBoxModel",
      "state": {
       "children": [
        "IPY_MODEL_11c335c83a1e43ce93199a9cacb18805",
        "IPY_MODEL_58c52a94756a4faa807d8414f07260c2",
        "IPY_MODEL_1ebc08ba7660496d8a8f0e8af260456e"
       ],
       "layout": "IPY_MODEL_739e5e2b7d984283ab86217d38c77644"
      }
     },
     "ce6df3ba3b2d4a2a82523fd31788a700": {
      "model_module": "@jupyter-widgets/base",
      "model_module_version": "2.0.0",
      "model_name": "LayoutModel",
      "state": {}
     },
     "d2172d7a8e754dfdaec2ceec13bbc04a": {
      "model_module": "@jupyter-widgets/controls",
      "model_module_version": "2.0.0",
      "model_name": "FloatProgressModel",
      "state": {
       "bar_style": "success",
       "layout": "IPY_MODEL_5a9f4386e1a84843bbde9318d049ceeb",
       "max": 638,
       "style": "IPY_MODEL_0f8efa0386db4ccc8dce0961661efefc",
       "value": 638
      }
     },
     "db156598d08a4f45a084df4bb00be84b": {
      "model_module": "@jupyter-widgets/controls",
      "model_module_version": "2.0.0",
      "model_name": "HTMLStyleModel",
      "state": {
       "description_width": "",
       "font_size": null,
       "text_color": null
      }
     },
     "e000cb1b4c504de29cfa711f72984e3f": {
      "model_module": "@jupyter-widgets/controls",
      "model_module_version": "2.0.0",
      "model_name": "ProgressStyleModel",
      "state": {
       "description_width": ""
      }
     },
     "f311959fbf9540a5a3c5c436dcb54699": {
      "model_module": "@jupyter-widgets/controls",
      "model_module_version": "2.0.0",
      "model_name": "ProgressStyleModel",
      "state": {
       "description_width": ""
      }
     },
     "f7f57916cd644ef39f534a859517dc66": {
      "model_module": "@jupyter-widgets/controls",
      "model_module_version": "2.0.0",
      "model_name": "ProgressStyleModel",
      "state": {
       "description_width": ""
      }
     }
    },
    "version_major": 2,
    "version_minor": 0
   }
  }
 },
 "nbformat": 4,
 "nbformat_minor": 5
}
