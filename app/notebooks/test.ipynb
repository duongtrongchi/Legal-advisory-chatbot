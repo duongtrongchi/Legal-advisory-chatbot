{
 "cells": [
  {
   "cell_type": "code",
   "execution_count": 1,
   "metadata": {},
   "outputs": [],
   "source": [
    "from dotenv import load_dotenv\n",
    "\n",
    "import openai\n",
    "import os\n",
    "load_dotenv()\n",
    "\n",
    "import logging\n",
    "import sys\n",
    "import os\n",
    "\n",
    "import numexpr as ne\n",
    "\n",
    "logging.basicConfig(stream=sys.stdout, level=logging.INFO)\n",
    "logging.getLogger().addHandler(logging.StreamHandler(stream=sys.stdout))\n",
    "openai.api_key = os.getenv('OPENAI_API_KEY')\n",
    "\n",
    "\n",
    "os.environ['NUMEXPR_MAX_THREADS'] = '4'\n",
    "os.environ['NUMEXPR_NUM_THREADS'] = '2'"
   ]
  },
  {
   "cell_type": "code",
   "execution_count": 2,
   "metadata": {},
   "outputs": [],
   "source": [
    "from llama_index import ServiceContext, VectorStoreIndex\n",
    "from llama_index import SimpleDirectoryReader\n",
    "from llama_index.llms import OpenAI\n",
    "from llama_index.embeddings import HuggingFaceEmbedding\n",
    "from llama_index.node_parser import SentenceWindowNodeParser\n",
    "from llama_index.indices.postprocessor import MetadataReplacementPostProcessor\n",
    "\n",
    "\n",
    "documents = SimpleDirectoryReader('../assets/ebook/').load_data()"
   ]
  },
  {
   "cell_type": "code",
   "execution_count": 3,
   "metadata": {},
   "outputs": [],
   "source": [
    "node_parser = SentenceWindowNodeParser.from_defaults(\n",
    "    window_size=3,\n",
    "    window_metadata_key=\"window\",\n",
    "    original_text_metadata_key=\"original_text\",\n",
    ")"
   ]
  },
  {
   "cell_type": "code",
   "execution_count": 4,
   "metadata": {},
   "outputs": [],
   "source": [
    "from llama_index.node_parser import SimpleNodeParser"
   ]
  },
  {
   "cell_type": "code",
   "execution_count": 5,
   "metadata": {},
   "outputs": [
    {
     "data": {
      "application/vnd.jupyter.widget-view+json": {
       "model_id": "f5f5d0ab74fa4407971f875ad0bab87d",
       "version_major": 2,
       "version_minor": 0
      },
      "text/plain": [
       "config.json:   0%|          | 0.00/571 [00:00<?, ?B/s]"
      ]
     },
     "metadata": {},
     "output_type": "display_data"
    },
    {
     "data": {
      "application/vnd.jupyter.widget-view+json": {
       "model_id": "31d37f3f17224ed08acb933159938f81",
       "version_major": 2,
       "version_minor": 0
      },
      "text/plain": [
       "pytorch_model.bin:   0%|          | 0.00/438M [00:00<?, ?B/s]"
      ]
     },
     "metadata": {},
     "output_type": "display_data"
    },
    {
     "data": {
      "application/vnd.jupyter.widget-view+json": {
       "model_id": "ddae94270cdd4c06b96450f01ef226db",
       "version_major": 2,
       "version_minor": 0
      },
      "text/plain": [
       "tokenizer_config.json:   0%|          | 0.00/363 [00:00<?, ?B/s]"
      ]
     },
     "metadata": {},
     "output_type": "display_data"
    },
    {
     "data": {
      "application/vnd.jupyter.widget-view+json": {
       "model_id": "db89f98ed4bf4239a9d87c6048ee4170",
       "version_major": 2,
       "version_minor": 0
      },
      "text/plain": [
       "vocab.txt:   0%|          | 0.00/232k [00:00<?, ?B/s]"
      ]
     },
     "metadata": {},
     "output_type": "display_data"
    },
    {
     "data": {
      "application/vnd.jupyter.widget-view+json": {
       "model_id": "975ee35dce3e455f8d2506fa4539f1bb",
       "version_major": 2,
       "version_minor": 0
      },
      "text/plain": [
       "tokenizer.json:   0%|          | 0.00/466k [00:00<?, ?B/s]"
      ]
     },
     "metadata": {},
     "output_type": "display_data"
    },
    {
     "data": {
      "application/vnd.jupyter.widget-view+json": {
       "model_id": "f4bb20ef97cf417399dd334688125bb3",
       "version_major": 2,
       "version_minor": 0
      },
      "text/plain": [
       "special_tokens_map.json:   0%|          | 0.00/239 [00:00<?, ?B/s]"
      ]
     },
     "metadata": {},
     "output_type": "display_data"
    }
   ],
   "source": [
    "simple_parser = SimpleNodeParser.from_defaults()\n",
    "\n",
    "llm = OpenAI(model=\"gpt-3.5-turbo\", temperature=0)\n",
    "\n",
    "embed_model = HuggingFaceEmbedding(\n",
    "    model_name=\"sentence-transformers/all-mpnet-base-v2\",\n",
    "    max_length=512\n",
    ")"
   ]
  },
  {
   "cell_type": "code",
   "execution_count": 6,
   "metadata": {},
   "outputs": [],
   "source": [
    "ctx = ServiceContext.from_defaults(\n",
    "    llm=llm,\n",
    "    embed_model=embed_model\n",
    ")\n",
    "\n",
    "\n",
    "nodes = node_parser.get_nodes_from_documents(documents)\n",
    "sentence_index = VectorStoreIndex(nodes, service_context=ctx)"
   ]
  },
  {
   "cell_type": "code",
   "execution_count": 7,
   "metadata": {},
   "outputs": [],
   "source": [
    "query_engine = sentence_index.as_query_engine(\n",
    "    similarity_top_k=2,\n",
    "    node_postprocessors = [\n",
    "        MetadataReplacementPostProcessor(\n",
    "            target_metadata_key=\"window\"\n",
    "        )\n",
    "    ]\n",
    ")"
   ]
  },
  {
   "cell_type": "code",
   "execution_count": 8,
   "metadata": {},
   "outputs": [
    {
     "name": "stderr",
     "output_type": "stream",
     "text": [
      "huggingface/tokenizers: The current process just got forked, after parallelism has already been used. Disabling parallelism to avoid deadlocks...\n",
      "To disable this warning, you can either:\n",
      "\t- Avoid using `tokenizers` before the fork if possible\n",
      "\t- Explicitly set the environment variable TOKENIZERS_PARALLELISM=(true | false)\n"
     ]
    },
    {
     "name": "stdout",
     "output_type": "stream",
     "text": [
      "INFO:httpx:HTTP Request: POST https://api.openai.com/v1/chat/completions \"HTTP/1.1 200 OK\"\n",
      "HTTP Request: POST https://api.openai.com/v1/chat/completions \"HTTP/1.1 200 OK\"\n"
     ]
    }
   ],
   "source": [
    "window_response = query_engine.query(\n",
    "    \"Bệnh động kinh là gì?\"\n",
    ")"
   ]
  },
  {
   "cell_type": "code",
   "execution_count": 9,
   "metadata": {},
   "outputs": [
    {
     "name": "stdout",
     "output_type": "stream",
     "text": [
      "Bệnh động kinh là một căn bệnh mà người bệnh gặp phải cơn co giật không kiểm soát được. Có thể điều trị bệnh động kinh và có thể chữa khỏi hoàn toàn trong một số trường hợp. Tuy nhiên, không phải tất cả người bệnh đều có thể khỏi hoàn toàn, nhưng vẫn có thể sử dụng thuốc để duy trì và đảm bảo một cuộc sống khỏe mạnh.\n"
     ]
    }
   ],
   "source": [
    "print(window_response)"
   ]
  },
  {
   "cell_type": "code",
   "execution_count": 12,
   "metadata": {},
   "outputs": [
    {
     "name": "stdout",
     "output_type": "stream",
     "text": [
      "Bạn chỉ nên nghiêng đầu người bệnh sang một bên, giúp họ nới lỏng quần áo và giữ người bệnh ở một tư thế thoải mái nhất.  Cần phải liên tục để ý tới người bệnh trong cơn co giật.<h2><strong>Điều trị bệnh động kinh tại BVĐK Tâm Anh</strong></h2> Nhiều nghiên cứu đã ghi nhận những khó khăn và bất lợi mà các trường hợp mắc bệnh động kinh đang gặp phải, phần lớn là do quan điểm sai lầm, thái độ không đúng của cả cộng đồng về căn bệnh này.  Chính vì thế, Tổ chức Y tế Thế giới (WHO) đã phát động chiến dịch toàn cầu với mục tiêu chống lại động kinh, đồng thời cải thiện chất lượng cuộc sống cho những người mắc bệnh.  PGS.TS.BSCKII Nguyễn Văn Liệu &#8211; chuyên gia đầu ngành về Thần kinh cũng khẳng định: “<i>Bệnh động kinh là bệnh cần chữa và có thể chữa khỏi hoàn toàn.  Tỉ lệ chữa khỏi bệnh khá cao, có thể lên tới 70%.  Nghĩa là khoảng 70% người bệnh có thể cắt được cơn động kinh và trở lại cuộc sống bình thường sau một quá trình điều trị từ 2,5 &#8211; 3 năm. \n",
      "0.6475218169644312\n",
      "PGS.TS.BSCKII Nguyễn Văn Liệu &#8211; chuyên gia đầu ngành về Thần kinh cũng khẳng định: “<i>Bệnh động kinh là bệnh cần chữa và có thể chữa khỏi hoàn toàn.  Tỉ lệ chữa khỏi bệnh khá cao, có thể lên tới 70%.  Nghĩa là khoảng 70% người bệnh có thể cắt được cơn động kinh và trở lại cuộc sống bình thường sau một quá trình điều trị từ 2,5 &#8211; 3 năm.  30% còn lại tuy không thể khỏi hoàn toàn nhưng họ vẫn có thể dùng thuốc để duy trì và đảm bảo một cuộc sống khỏe mạnh</i>”.  Đã có rất nhiều ca bệnh được điều trị thành công, họ đã cắt được cơn động kinh và trở lại cuộc sống bình thường.  Trường hợp anh N.H.D 32 tuổi (Huyện Ngọc Lặc &#8211; Thanh Hoá) là một ví dụ. \n",
      "0.5969743683747121\n"
     ]
    }
   ],
   "source": [
    "for i in window_response.source_nodes:\n",
    "    print(i.text)\n",
    "    print(i.score)"
   ]
  },
  {
   "cell_type": "code",
   "execution_count": null,
   "metadata": {},
   "outputs": [],
   "source": []
  }
 ],
 "metadata": {
  "kernelspec": {
   "display_name": "Python 3 (ipykernel)",
   "language": "python",
   "name": "python3"
  },
  "language_info": {
   "codemirror_mode": {
    "name": "ipython",
    "version": 3
   },
   "file_extension": ".py",
   "mimetype": "text/x-python",
   "name": "python",
   "nbconvert_exporter": "python",
   "pygments_lexer": "ipython3",
   "version": "3.9.18"
  },
  "widgets": {
   "application/vnd.jupyter.widget-state+json": {
    "state": {
     "01710b94e150480eb30343431114e7b7": {
      "model_module": "@jupyter-widgets/controls",
      "model_module_version": "2.0.0",
      "model_name": "HTMLStyleModel",
      "state": {
       "description_width": "",
       "font_size": null,
       "text_color": null
      }
     },
     "02819731369047b187517ac29e363c29": {
      "model_module": "@jupyter-widgets/base",
      "model_module_version": "2.0.0",
      "model_name": "LayoutModel",
      "state": {}
     },
     "05fc4b3546dd48bdb252c8d08e49bd51": {
      "model_module": "@jupyter-widgets/controls",
      "model_module_version": "2.0.0",
      "model_name": "HTMLStyleModel",
      "state": {
       "description_width": "",
       "font_size": null,
       "text_color": null
      }
     },
     "0bc27c5cb8f44b348eca3c91cd5214ef": {
      "model_module": "@jupyter-widgets/controls",
      "model_module_version": "2.0.0",
      "model_name": "HTMLModel",
      "state": {
       "layout": "IPY_MODEL_f4159a8e72c2441b88b2d34208b33355",
       "style": "IPY_MODEL_2ef3bd6ef94b494880fddae0013842d7",
       "value": " 466k/466k [00:00&lt;00:00, 836kB/s]"
      }
     },
     "19831985c30f45ffaa37cb92c1982bbe": {
      "model_module": "@jupyter-widgets/controls",
      "model_module_version": "2.0.0",
      "model_name": "HTMLModel",
      "state": {
       "layout": "IPY_MODEL_6a38cba6f3354419a6fa295a351167a3",
       "style": "IPY_MODEL_41598bda0b574291aab13fbb8593c7ae",
       "value": "special_tokens_map.json: 100%"
      }
     },
     "2ef3bd6ef94b494880fddae0013842d7": {
      "model_module": "@jupyter-widgets/controls",
      "model_module_version": "2.0.0",
      "model_name": "HTMLStyleModel",
      "state": {
       "description_width": "",
       "font_size": null,
       "text_color": null
      }
     },
     "30fb0bfb32b64f809cfa4207dec3440e": {
      "model_module": "@jupyter-widgets/base",
      "model_module_version": "2.0.0",
      "model_name": "LayoutModel",
      "state": {}
     },
     "31d37f3f17224ed08acb933159938f81": {
      "model_module": "@jupyter-widgets/controls",
      "model_module_version": "2.0.0",
      "model_name": "HBoxModel",
      "state": {
       "children": [
        "IPY_MODEL_6a6e9bf88db24122ad0e74ce01d18ac1",
        "IPY_MODEL_aa10dea99611419e99f8324937f24a03",
        "IPY_MODEL_cc423004beb9443487ea3664a19bf754"
       ],
       "layout": "IPY_MODEL_e8fd9a0cc0ea487a815c4f961a0d1102"
      }
     },
     "3693e3ac68be436ab68cdebd25c7a99b": {
      "model_module": "@jupyter-widgets/controls",
      "model_module_version": "2.0.0",
      "model_name": "ProgressStyleModel",
      "state": {
       "description_width": ""
      }
     },
     "3b6cec89619141d19bbece988feff711": {
      "model_module": "@jupyter-widgets/controls",
      "model_module_version": "2.0.0",
      "model_name": "ProgressStyleModel",
      "state": {
       "description_width": ""
      }
     },
     "3eab34eadd5149b79978cf6a8751d2c2": {
      "model_module": "@jupyter-widgets/controls",
      "model_module_version": "2.0.0",
      "model_name": "HTMLModel",
      "state": {
       "layout": "IPY_MODEL_46cfec67cb5d4f4499d81120f48f8370",
       "style": "IPY_MODEL_70977841114945f09c4e417e3833c48a",
       "value": "config.json: 100%"
      }
     },
     "41598bda0b574291aab13fbb8593c7ae": {
      "model_module": "@jupyter-widgets/controls",
      "model_module_version": "2.0.0",
      "model_name": "HTMLStyleModel",
      "state": {
       "description_width": "",
       "font_size": null,
       "text_color": null
      }
     },
     "42d6087bc9ac4ab1ab630230f82567aa": {
      "model_module": "@jupyter-widgets/controls",
      "model_module_version": "2.0.0",
      "model_name": "FloatProgressModel",
      "state": {
       "bar_style": "success",
       "layout": "IPY_MODEL_c00b1487cbb346029f35747b419dafaf",
       "max": 363,
       "style": "IPY_MODEL_6cede5266d534759af1be820f043a653",
       "value": 363
      }
     },
     "459b5ed37b644d62b7ee20e92324b487": {
      "model_module": "@jupyter-widgets/base",
      "model_module_version": "2.0.0",
      "model_name": "LayoutModel",
      "state": {}
     },
     "46cfec67cb5d4f4499d81120f48f8370": {
      "model_module": "@jupyter-widgets/base",
      "model_module_version": "2.0.0",
      "model_name": "LayoutModel",
      "state": {}
     },
     "4836b257bac34309975ce6cb6ad48484": {
      "model_module": "@jupyter-widgets/controls",
      "model_module_version": "2.0.0",
      "model_name": "ProgressStyleModel",
      "state": {
       "description_width": ""
      }
     },
     "50a268dae7914ea1a33453eddaebfb8a": {
      "model_module": "@jupyter-widgets/base",
      "model_module_version": "2.0.0",
      "model_name": "LayoutModel",
      "state": {}
     },
     "517a687ee4c54353a62ac6b5339e8789": {
      "model_module": "@jupyter-widgets/controls",
      "model_module_version": "2.0.0",
      "model_name": "HTMLModel",
      "state": {
       "layout": "IPY_MODEL_bff160aff1c248a6ae71b701136ed00c",
       "style": "IPY_MODEL_8091bf3cd72643a69d3869f6ab63d1bc",
       "value": "tokenizer_config.json: 100%"
      }
     },
     "5215ea555d0f4218a46670cfec161f10": {
      "model_module": "@jupyter-widgets/controls",
      "model_module_version": "2.0.0",
      "model_name": "HTMLStyleModel",
      "state": {
       "description_width": "",
       "font_size": null,
       "text_color": null
      }
     },
     "52784d20f9b94bafb15956060f50c5d8": {
      "model_module": "@jupyter-widgets/controls",
      "model_module_version": "2.0.0",
      "model_name": "FloatProgressModel",
      "state": {
       "bar_style": "success",
       "layout": "IPY_MODEL_92935642323a450493a96eb013f9d2d6",
       "max": 466021,
       "style": "IPY_MODEL_af6fe855c886456ea776f62b59b5760e",
       "value": 466021
      }
     },
     "55184529f59b49ed8d936d736a416677": {
      "model_module": "@jupyter-widgets/controls",
      "model_module_version": "2.0.0",
      "model_name": "HTMLStyleModel",
      "state": {
       "description_width": "",
       "font_size": null,
       "text_color": null
      }
     },
     "59eeddaf9dd546a3980627a46d296567": {
      "model_module": "@jupyter-widgets/base",
      "model_module_version": "2.0.0",
      "model_name": "LayoutModel",
      "state": {}
     },
     "5a2adfb396ab4313959c2629abf35f82": {
      "model_module": "@jupyter-widgets/base",
      "model_module_version": "2.0.0",
      "model_name": "LayoutModel",
      "state": {}
     },
     "5ba8435331d14115b6381db1fa0ba7ec": {
      "model_module": "@jupyter-widgets/controls",
      "model_module_version": "2.0.0",
      "model_name": "HTMLModel",
      "state": {
       "layout": "IPY_MODEL_a2988598007347ddaf263370b91898b6",
       "style": "IPY_MODEL_67853725344746f39a6aa8411c95d7bd",
       "value": "tokenizer.json: 100%"
      }
     },
     "67853725344746f39a6aa8411c95d7bd": {
      "model_module": "@jupyter-widgets/controls",
      "model_module_version": "2.0.0",
      "model_name": "HTMLStyleModel",
      "state": {
       "description_width": "",
       "font_size": null,
       "text_color": null
      }
     },
     "6a38cba6f3354419a6fa295a351167a3": {
      "model_module": "@jupyter-widgets/base",
      "model_module_version": "2.0.0",
      "model_name": "LayoutModel",
      "state": {}
     },
     "6a58dc14333c4522b6df612cf68b4287": {
      "model_module": "@jupyter-widgets/base",
      "model_module_version": "2.0.0",
      "model_name": "LayoutModel",
      "state": {}
     },
     "6a6e9bf88db24122ad0e74ce01d18ac1": {
      "model_module": "@jupyter-widgets/controls",
      "model_module_version": "2.0.0",
      "model_name": "HTMLModel",
      "state": {
       "layout": "IPY_MODEL_30fb0bfb32b64f809cfa4207dec3440e",
       "style": "IPY_MODEL_05fc4b3546dd48bdb252c8d08e49bd51",
       "value": "pytorch_model.bin: 100%"
      }
     },
     "6b034e60ae694eeaa4455e20bff2abcb": {
      "model_module": "@jupyter-widgets/controls",
      "model_module_version": "2.0.0",
      "model_name": "HTMLModel",
      "state": {
       "layout": "IPY_MODEL_bdef444bc5d3402b8fb6004681e557ec",
       "style": "IPY_MODEL_5215ea555d0f4218a46670cfec161f10",
       "value": " 239/239 [00:00&lt;00:00, 22.8kB/s]"
      }
     },
     "6cede5266d534759af1be820f043a653": {
      "model_module": "@jupyter-widgets/controls",
      "model_module_version": "2.0.0",
      "model_name": "ProgressStyleModel",
      "state": {
       "description_width": ""
      }
     },
     "6d28221ff6c048eba04b4381878a60e3": {
      "model_module": "@jupyter-widgets/base",
      "model_module_version": "2.0.0",
      "model_name": "LayoutModel",
      "state": {}
     },
     "70977841114945f09c4e417e3833c48a": {
      "model_module": "@jupyter-widgets/controls",
      "model_module_version": "2.0.0",
      "model_name": "HTMLStyleModel",
      "state": {
       "description_width": "",
       "font_size": null,
       "text_color": null
      }
     },
     "73ace63b12224d7382fd4b2d2d394405": {
      "model_module": "@jupyter-widgets/base",
      "model_module_version": "2.0.0",
      "model_name": "LayoutModel",
      "state": {}
     },
     "77bd81ec25b64101907bf012c23c0dad": {
      "model_module": "@jupyter-widgets/controls",
      "model_module_version": "2.0.0",
      "model_name": "HTMLStyleModel",
      "state": {
       "description_width": "",
       "font_size": null,
       "text_color": null
      }
     },
     "7abd8744033a4b0fb955d8bfa03ac681": {
      "model_module": "@jupyter-widgets/controls",
      "model_module_version": "2.0.0",
      "model_name": "HTMLModel",
      "state": {
       "layout": "IPY_MODEL_a29bc2640af045d3b31c3db99f6ef4d2",
       "style": "IPY_MODEL_7b60c66353e34fe59bf7b1babf4c166a",
       "value": "vocab.txt: 100%"
      }
     },
     "7b60c66353e34fe59bf7b1babf4c166a": {
      "model_module": "@jupyter-widgets/controls",
      "model_module_version": "2.0.0",
      "model_name": "HTMLStyleModel",
      "state": {
       "description_width": "",
       "font_size": null,
       "text_color": null
      }
     },
     "8091bf3cd72643a69d3869f6ab63d1bc": {
      "model_module": "@jupyter-widgets/controls",
      "model_module_version": "2.0.0",
      "model_name": "HTMLStyleModel",
      "state": {
       "description_width": "",
       "font_size": null,
       "text_color": null
      }
     },
     "8997177fb938490cb092b48270430f6c": {
      "model_module": "@jupyter-widgets/base",
      "model_module_version": "2.0.0",
      "model_name": "LayoutModel",
      "state": {}
     },
     "8be96016914c43e09b444066e032bae9": {
      "model_module": "@jupyter-widgets/controls",
      "model_module_version": "2.0.0",
      "model_name": "HTMLModel",
      "state": {
       "layout": "IPY_MODEL_02819731369047b187517ac29e363c29",
       "style": "IPY_MODEL_55184529f59b49ed8d936d736a416677",
       "value": " 571/571 [00:00&lt;00:00, 34.0kB/s]"
      }
     },
     "92935642323a450493a96eb013f9d2d6": {
      "model_module": "@jupyter-widgets/base",
      "model_module_version": "2.0.0",
      "model_name": "LayoutModel",
      "state": {}
     },
     "975ee35dce3e455f8d2506fa4539f1bb": {
      "model_module": "@jupyter-widgets/controls",
      "model_module_version": "2.0.0",
      "model_name": "HBoxModel",
      "state": {
       "children": [
        "IPY_MODEL_5ba8435331d14115b6381db1fa0ba7ec",
        "IPY_MODEL_52784d20f9b94bafb15956060f50c5d8",
        "IPY_MODEL_0bc27c5cb8f44b348eca3c91cd5214ef"
       ],
       "layout": "IPY_MODEL_5a2adfb396ab4313959c2629abf35f82"
      }
     },
     "9c329c6c88a54452b1e89b069bd8648a": {
      "model_module": "@jupyter-widgets/controls",
      "model_module_version": "2.0.0",
      "model_name": "HTMLStyleModel",
      "state": {
       "description_width": "",
       "font_size": null,
       "text_color": null
      }
     },
     "a2988598007347ddaf263370b91898b6": {
      "model_module": "@jupyter-widgets/base",
      "model_module_version": "2.0.0",
      "model_name": "LayoutModel",
      "state": {}
     },
     "a29bc2640af045d3b31c3db99f6ef4d2": {
      "model_module": "@jupyter-widgets/base",
      "model_module_version": "2.0.0",
      "model_name": "LayoutModel",
      "state": {}
     },
     "aa10dea99611419e99f8324937f24a03": {
      "model_module": "@jupyter-widgets/controls",
      "model_module_version": "2.0.0",
      "model_name": "FloatProgressModel",
      "state": {
       "bar_style": "success",
       "layout": "IPY_MODEL_e4059c3cf4994ed7b3e53c90d2f636ca",
       "max": 438011953,
       "style": "IPY_MODEL_ffa953a66ef64bdbab55abedac82b090",
       "value": 438011953
      }
     },
     "af6fe855c886456ea776f62b59b5760e": {
      "model_module": "@jupyter-widgets/controls",
      "model_module_version": "2.0.0",
      "model_name": "ProgressStyleModel",
      "state": {
       "description_width": ""
      }
     },
     "b5bba433bd1e441196945624195da9f7": {
      "model_module": "@jupyter-widgets/base",
      "model_module_version": "2.0.0",
      "model_name": "LayoutModel",
      "state": {}
     },
     "bdef444bc5d3402b8fb6004681e557ec": {
      "model_module": "@jupyter-widgets/base",
      "model_module_version": "2.0.0",
      "model_name": "LayoutModel",
      "state": {}
     },
     "bff160aff1c248a6ae71b701136ed00c": {
      "model_module": "@jupyter-widgets/base",
      "model_module_version": "2.0.0",
      "model_name": "LayoutModel",
      "state": {}
     },
     "c00b1487cbb346029f35747b419dafaf": {
      "model_module": "@jupyter-widgets/base",
      "model_module_version": "2.0.0",
      "model_name": "LayoutModel",
      "state": {}
     },
     "cb479f6b25a342c7bcc40f1067734b9c": {
      "model_module": "@jupyter-widgets/controls",
      "model_module_version": "2.0.0",
      "model_name": "HTMLModel",
      "state": {
       "layout": "IPY_MODEL_b5bba433bd1e441196945624195da9f7",
       "style": "IPY_MODEL_77bd81ec25b64101907bf012c23c0dad",
       "value": " 232k/232k [00:00&lt;00:00, 1.80MB/s]"
      }
     },
     "cc423004beb9443487ea3664a19bf754": {
      "model_module": "@jupyter-widgets/controls",
      "model_module_version": "2.0.0",
      "model_name": "HTMLModel",
      "state": {
       "layout": "IPY_MODEL_50a268dae7914ea1a33453eddaebfb8a",
       "style": "IPY_MODEL_01710b94e150480eb30343431114e7b7",
       "value": " 438M/438M [00:32&lt;00:00, 11.3MB/s]"
      }
     },
     "d7ec2ff5af934f4bbe8cf59a38ee2c69": {
      "model_module": "@jupyter-widgets/base",
      "model_module_version": "2.0.0",
      "model_name": "LayoutModel",
      "state": {}
     },
     "db89f98ed4bf4239a9d87c6048ee4170": {
      "model_module": "@jupyter-widgets/controls",
      "model_module_version": "2.0.0",
      "model_name": "HBoxModel",
      "state": {
       "children": [
        "IPY_MODEL_7abd8744033a4b0fb955d8bfa03ac681",
        "IPY_MODEL_ffa42859049b465d954fa03a5ff3393a",
        "IPY_MODEL_cb479f6b25a342c7bcc40f1067734b9c"
       ],
       "layout": "IPY_MODEL_459b5ed37b644d62b7ee20e92324b487"
      }
     },
     "ddae94270cdd4c06b96450f01ef226db": {
      "model_module": "@jupyter-widgets/controls",
      "model_module_version": "2.0.0",
      "model_name": "HBoxModel",
      "state": {
       "children": [
        "IPY_MODEL_517a687ee4c54353a62ac6b5339e8789",
        "IPY_MODEL_42d6087bc9ac4ab1ab630230f82567aa",
        "IPY_MODEL_face41c9ad494483bd8fe8a1b7f2ed07"
       ],
       "layout": "IPY_MODEL_d7ec2ff5af934f4bbe8cf59a38ee2c69"
      }
     },
     "e4059c3cf4994ed7b3e53c90d2f636ca": {
      "model_module": "@jupyter-widgets/base",
      "model_module_version": "2.0.0",
      "model_name": "LayoutModel",
      "state": {}
     },
     "e8fd9a0cc0ea487a815c4f961a0d1102": {
      "model_module": "@jupyter-widgets/base",
      "model_module_version": "2.0.0",
      "model_name": "LayoutModel",
      "state": {}
     },
     "f3d1bcbf10b24d1d8d43be69d083baf6": {
      "model_module": "@jupyter-widgets/controls",
      "model_module_version": "2.0.0",
      "model_name": "FloatProgressModel",
      "state": {
       "bar_style": "success",
       "layout": "IPY_MODEL_6d28221ff6c048eba04b4381878a60e3",
       "max": 571,
       "style": "IPY_MODEL_3693e3ac68be436ab68cdebd25c7a99b",
       "value": 571
      }
     },
     "f4159a8e72c2441b88b2d34208b33355": {
      "model_module": "@jupyter-widgets/base",
      "model_module_version": "2.0.0",
      "model_name": "LayoutModel",
      "state": {}
     },
     "f4bb20ef97cf417399dd334688125bb3": {
      "model_module": "@jupyter-widgets/controls",
      "model_module_version": "2.0.0",
      "model_name": "HBoxModel",
      "state": {
       "children": [
        "IPY_MODEL_19831985c30f45ffaa37cb92c1982bbe",
        "IPY_MODEL_ff7e55b8064e442ba508c1e98dd68ff8",
        "IPY_MODEL_6b034e60ae694eeaa4455e20bff2abcb"
       ],
       "layout": "IPY_MODEL_8997177fb938490cb092b48270430f6c"
      }
     },
     "f5f5d0ab74fa4407971f875ad0bab87d": {
      "model_module": "@jupyter-widgets/controls",
      "model_module_version": "2.0.0",
      "model_name": "HBoxModel",
      "state": {
       "children": [
        "IPY_MODEL_3eab34eadd5149b79978cf6a8751d2c2",
        "IPY_MODEL_f3d1bcbf10b24d1d8d43be69d083baf6",
        "IPY_MODEL_8be96016914c43e09b444066e032bae9"
       ],
       "layout": "IPY_MODEL_6a58dc14333c4522b6df612cf68b4287"
      }
     },
     "f82261f7252d418dabe4f5ceb627424a": {
      "model_module": "@jupyter-widgets/base",
      "model_module_version": "2.0.0",
      "model_name": "LayoutModel",
      "state": {}
     },
     "face41c9ad494483bd8fe8a1b7f2ed07": {
      "model_module": "@jupyter-widgets/controls",
      "model_module_version": "2.0.0",
      "model_name": "HTMLModel",
      "state": {
       "layout": "IPY_MODEL_73ace63b12224d7382fd4b2d2d394405",
       "style": "IPY_MODEL_9c329c6c88a54452b1e89b069bd8648a",
       "value": " 363/363 [00:00&lt;00:00, 18.9kB/s]"
      }
     },
     "ff7e55b8064e442ba508c1e98dd68ff8": {
      "model_module": "@jupyter-widgets/controls",
      "model_module_version": "2.0.0",
      "model_name": "FloatProgressModel",
      "state": {
       "bar_style": "success",
       "layout": "IPY_MODEL_59eeddaf9dd546a3980627a46d296567",
       "max": 239,
       "style": "IPY_MODEL_3b6cec89619141d19bbece988feff711",
       "value": 239
      }
     },
     "ffa42859049b465d954fa03a5ff3393a": {
      "model_module": "@jupyter-widgets/controls",
      "model_module_version": "2.0.0",
      "model_name": "FloatProgressModel",
      "state": {
       "bar_style": "success",
       "layout": "IPY_MODEL_f82261f7252d418dabe4f5ceb627424a",
       "max": 231536,
       "style": "IPY_MODEL_4836b257bac34309975ce6cb6ad48484",
       "value": 231536
      }
     },
     "ffa953a66ef64bdbab55abedac82b090": {
      "model_module": "@jupyter-widgets/controls",
      "model_module_version": "2.0.0",
      "model_name": "ProgressStyleModel",
      "state": {
       "description_width": ""
      }
     }
    },
    "version_major": 2,
    "version_minor": 0
   }
  }
 },
 "nbformat": 4,
 "nbformat_minor": 4
}
