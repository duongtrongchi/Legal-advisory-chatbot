{
 "cells": [
  {
   "cell_type": "code",
   "execution_count": 2,
   "id": "4cf87bc5-99cf-45ea-9fbc-13a9cb64b957",
   "metadata": {},
   "outputs": [],
   "source": [
    "from dotenv import load_dotenv\n",
    "\n",
    "import openai\n",
    "import os\n",
    "load_dotenv()\n",
    "\n",
    "import logging\n",
    "import sys\n",
    "import os\n",
    "\n",
    "import numexpr as ne\n",
    "\n",
    "logging.basicConfig(stream=sys.stdout, level=logging.INFO)\n",
    "logging.getLogger().addHandler(logging.StreamHandler(stream=sys.stdout))\n",
    "openai.api_key = os.getenv('OPENAI_API_KEY')\n",
    "\n",
    "\n",
    "os.environ['NUMEXPR_MAX_THREADS'] = '4'\n",
    "os.environ['NUMEXPR_NUM_THREADS'] = '2'"
   ]
  },
  {
   "cell_type": "code",
   "execution_count": 3,
   "id": "714a69be-bbc3-48b6-a250-60bad76829f4",
   "metadata": {
    "scrolled": true
   },
   "outputs": [
    {
     "name": "stdout",
     "output_type": "stream",
     "text": [
      "INFO:llama_index.indices.loading:Loading all indices.\n",
      "Loading all indices.\n",
      "loading from disk\n"
     ]
    }
   ],
   "source": [
    "from llama_index import VectorStoreIndex, SimpleDirectoryReader, StorageContext, load_index_from_storage\n",
    "from llama_index.prompts import PromptTemplate\n",
    "\n",
    "try:\n",
    "    storage_context = StorageContext.from_defaults(persist_dir='../storage/cache/andrew/medical')\n",
    "    index = load_index_from_storage(storage_context)\n",
    "    print('loading from disk')\n",
    "except:\n",
    "    documents = SimpleDirectoryReader('../assets/AndrewHuberman/medical').load_data()\n",
    "    index = VectorStoreIndex.from_documents(documents)\n",
    "    index.storage_context.persist(persist_dir='../storage/cache/andrew/medical/')\n",
    "    print('persisting to disk')"
   ]
  },
  {
   "cell_type": "code",
   "execution_count": 4,
   "id": "7d3ac707-58dd-426e-8a4f-18ee3dc6e5a9",
   "metadata": {},
   "outputs": [],
   "source": [
    "openai.log = \"debug\"\n",
    "\n",
    "text_qa_template_str = (\n",
    "    \"Bạn là trợ lý của Andrew Huberman, người có thể đọc các ghi chú podcast của Andrew Huberman.\\n\"\n",
    "    \"Luôn trả lời truy vấn chỉ bằng cách sử dụng thông tin ngữ cảnh được cung cấp, \"\n",
    "    \"chứ không phải kiến ​​thức sẵn có.\\n\"\n",
    "    \"Một số quy tắc cần tuân theo:\\n\"\n",
    "    \"1. Không bao giờ tham khảo trực tiếp bối cảnh nhất định trong câu trả lời của bạn.\\n\"\n",
    "    \"2. Tránh những câu như 'Dựa trên ngữ cảnh, ...' hoặc \"\n",
    "    \"'Thông tin ngữ cảnh ...' hoặc bất cứ điều gì cùng\"\n",
    "    \"những dòng đó.\"\n",
    "    \"3.Câu trả lời nên thật chi tiết và dài\"\n",
    "    \"Thông tin bối cảnh dưới đây.\\n\"\n",
    "    \"---------------------\\n\"\n",
    "    \"{context_str}\\n\"\n",
    "    \"---------------------\\n\"\n",
    "    \"Trả lời câu hỏi:{query_str}\\n\"\n",
    ")\n",
    "\n",
    "text_qa_template = PromptTemplate(text_qa_template_str)"
   ]
  },
  {
   "cell_type": "code",
   "execution_count": 5,
   "id": "e9eda5ac",
   "metadata": {},
   "outputs": [
    {
     "name": "stderr",
     "output_type": "stream",
     "text": [
      "Some weights of MPNetForSequenceClassification were not initialized from the model checkpoint at sentence-transformers/all-mpnet-base-v2 and are newly initialized: ['classifier.dense.bias', 'classifier.out_proj.bias', 'classifier.dense.weight', 'classifier.out_proj.weight']\n",
      "You should probably TRAIN this model on a down-stream task to be able to use it for predictions and inference.\n"
     ]
    }
   ],
   "source": [
    "from llama_index.postprocessor import SentenceTransformerRerank\n",
    "\n",
    "rerank = SentenceTransformerRerank(\n",
    "    model=\"sentence-transformers/all-mpnet-base-v2\", top_n=3\n",
    ")"
   ]
  },
  {
   "cell_type": "code",
   "execution_count": 6,
   "id": "53fb503d",
   "metadata": {},
   "outputs": [],
   "source": [
    "from time import time\n",
    "\n",
    "query_engine = index.as_query_engine(\n",
    "    similarity_top_k=10,\n",
    "    node_postprocessors=[rerank],\n",
    "    text_qa_template = text_qa_template\n",
    ")"
   ]
  },
  {
   "cell_type": "code",
   "execution_count": 7,
   "id": "8dda98f8",
   "metadata": {},
   "outputs": [
    {
     "name": "stdout",
     "output_type": "stream",
     "text": [
      "INFO:httpx:HTTP Request: POST https://api.openai.com/v1/embeddings \"HTTP/1.1 200 OK\"\n",
      "HTTP Request: POST https://api.openai.com/v1/embeddings \"HTTP/1.1 200 OK\"\n"
     ]
    },
    {
     "data": {
      "application/vnd.jupyter.widget-view+json": {
       "model_id": "ebca69651f904b16a72b2560383bf420",
       "version_major": 2,
       "version_minor": 0
      },
      "text/plain": [
       "Batches:   0%|          | 0/1 [00:00<?, ?it/s]"
      ]
     },
     "metadata": {},
     "output_type": "display_data"
    },
    {
     "name": "stdout",
     "output_type": "stream",
     "text": [
      "INFO:httpx:HTTP Request: POST https://api.openai.com/v1/chat/completions \"HTTP/1.1 200 OK\"\n",
      "HTTP Request: POST https://api.openai.com/v1/chat/completions \"HTTP/1.1 200 OK\"\n",
      "Elapsed: 12.16s\n"
     ]
    }
   ],
   "source": [
    "now = time()\n",
    "response = query_engine.query(\n",
    "    \"Bệnh sán dây là bệnh gì?\",\n",
    ")\n",
    "print(f\"Elapsed: {round(time() - now, 2)}s\")"
   ]
  },
  {
   "cell_type": "code",
   "execution_count": 8,
   "id": "193b913e",
   "metadata": {},
   "outputs": [
    {
     "name": "stdout",
     "output_type": "stream",
     "text": [
      "Bệnh sán dây là một loại nhiễm trùng do trứng sán dây (sán dây lợn, sán dây bò, sán dây cá...) xâm nhập vào cơ thể người thông qua đường miệng, đặc biệt là do thói quen ăn thịt sống, thịt tái hoặc chưa nấu chín. Cơ thể bị nhiễm sán dây có thể gặp các triệu chứng nhẹ và không đặc hiệu như mệt mỏi, đau bụng, tiêu chảy. Các triệu chứng cũng có thể khác nhau tùy thuộc vào từng loại sán dây mắc phải.\n"
     ]
    }
   ],
   "source": [
    "print(response)"
   ]
  },
  {
   "cell_type": "code",
   "execution_count": 9,
   "id": "39f1dbf2",
   "metadata": {},
   "outputs": [
    {
     "name": "stdout",
     "output_type": "stream",
     "text": [
      "> Source (Doc id: 4b03076e-9f80-4a81-92db-d782edd06c26): Nguyên nhân do trứng sán dây (sán dây lợn, sán dây bò, sán dây cá…) xâm nhập từ động vật vào người qua đường miệng, đặc biệt là thói quen ăn thịt sống, thịt tái hoặc chưa nấu chín. Thông thường, cơ...\n",
      "\n",
      "> Source (Doc id: ac765d72-fc26-4784-a65f-f8ed25f3eaa8): Loại nhiễm trùng này xảy ra với sán dây lùn và phổ biến hơn nhiều ở những nơi thực hành vệ sinh kém. \n",
      "<h3>Tái nhiễm sán</h3> Trong quá trình điều trị, con người có thể tự tái nhiễm nếu không tuân t...\n",
      "\n",
      "> Source (Doc id: 12d19046-ed27-48ec-a546-5305674ac6c7): Ngoài ra, hãy đến bệnh viện dù cho bạn không gặp bất kỳ triệu chứng nào của bệnh. Kiểm tra sức khỏe định kỳ cũng là một cách phát hiện bệnh từ sớm và điều trị kịp thời. \n",
      "<h2><strong>9. Cách phòng t...\n"
     ]
    }
   ],
   "source": [
    "print(response.get_formatted_sources(length=200))"
   ]
  },
  {
   "cell_type": "code",
   "execution_count": 10,
   "id": "f91413e9-69dc-48c0-a865-01719262ffb3",
   "metadata": {
    "scrolled": true
   },
   "outputs": [
    {
     "name": "stdout",
     "output_type": "stream",
     "text": [
      "{'4b03076e-9f80-4a81-92db-d782edd06c26': {'file_path': '../assets/AndrewHuberman/medical/benh-san-day', 'file_name': 'benh-san-day', 'file_type': None, 'file_size': 19844, 'creation_date': '2023-12-15', 'last_modified_date': '2023-12-15', 'last_accessed_date': '2023-12-15'}, 'ac765d72-fc26-4784-a65f-f8ed25f3eaa8': {'file_path': '../assets/AndrewHuberman/medical/benh-san-day', 'file_name': 'benh-san-day', 'file_type': None, 'file_size': 19844, 'creation_date': '2023-12-15', 'last_modified_date': '2023-12-15', 'last_accessed_date': '2023-12-15'}, '12d19046-ed27-48ec-a546-5305674ac6c7': {'file_path': '../assets/AndrewHuberman/medical/liet-day-thanh-quan', 'file_name': 'liet-day-thanh-quan', 'file_type': None, 'file_size': 18974, 'creation_date': '2023-12-15', 'last_modified_date': '2023-12-15', 'last_accessed_date': '2023-12-15'}}\n"
     ]
    }
   ],
   "source": [
    "print(response.metadata)"
   ]
  },
  {
   "cell_type": "code",
   "execution_count": 11,
   "id": "a804e95a",
   "metadata": {},
   "outputs": [
    {
     "data": {
      "text/plain": [
       "'Bệnh sán dây là một loại nhiễm trùng do trứng sán dây (sán dây lợn, sán dây bò, sán dây cá...) xâm nhập vào cơ thể người thông qua đường miệng, đặc biệt là do thói quen ăn thịt sống, thịt tái hoặc chưa nấu chín. Cơ thể bị nhiễm sán dây có thể gặp các triệu chứng nhẹ và không đặc hiệu như mệt mỏi, đau bụng, tiêu chảy. Các triệu chứng cũng có thể khác nhau tùy thuộc vào từng loại sán dây mắc phải.'"
      ]
     },
     "execution_count": 11,
     "metadata": {},
     "output_type": "execute_result"
    }
   ],
   "source": [
    "response.response"
   ]
  },
  {
   "cell_type": "code",
   "execution_count": 14,
   "id": "4b205fe9",
   "metadata": {},
   "outputs": [
    {
     "name": "stdout",
     "output_type": "stream",
     "text": [
      "INFO:httpx:HTTP Request: POST https://api.openai.com/v1/embeddings \"HTTP/1.1 200 OK\"\n",
      "HTTP Request: POST https://api.openai.com/v1/embeddings \"HTTP/1.1 200 OK\"\n",
      "INFO:httpx:HTTP Request: POST https://api.openai.com/v1/embeddings \"HTTP/1.1 200 OK\"\n",
      "HTTP Request: POST https://api.openai.com/v1/embeddings \"HTTP/1.1 200 OK\"\n",
      "Score:  0.8039874095294477\n",
      "Passing:  False\n"
     ]
    }
   ],
   "source": [
    "# Embedding Similarity Evaluator\n",
    "\n",
    "from llama_index.evaluation import SemanticSimilarityEvaluator\n",
    "from llama_index import ServiceContext\n",
    "from llama_index.embeddings import SimilarityMode\n",
    "\n",
    "\n",
    "# service_context = ServiceContext.from_defaults(embed_model=\"local\")\n",
    "evaluator = SemanticSimilarityEvaluator(\n",
    "    # service_context=service_context,\n",
    "    similarity_mode=SimilarityMode.DEFAULT,\n",
    "    similarity_threshold=0.9,\n",
    ")\n",
    "\n",
    "\n",
    "reference = \"\"\"\n",
    "<h2><strong>Xuất tinh sớm là gì?</strong></h2> <strong>Xuất tinh sớm</strong> (premature ejaculation) là tình trạng rối loạn xuất tinh khi người đàn ông không thể làm chủ được thời gian xuất tinh, quá trình xuất tinh sớm được tính từ khi dương vật đưa vào âm đạo chỉ duy trì trong vòng 2 phút. Quá trình xuất tinh là sự phóng tinh dịch ra khỏi dương vật khi đạt được cực khoái. Việc xuất tinh sớm không chỉ ảnh hưởng đến của cảm xúc giường chiếu của chính mình mà “đối tác” của họ cũng ảnh hưởng không kém. Xuất tinh sớm là hiện tượng khá phổ biến, xuất hiện từ độ tuổi 18 đến 59. (1) Xuất tinh sớm là vấn đề này khá nhạy cảm nên nhiều người không dám đối diện, né tránh thăm khám, chữa trị. Tuy nhiên, điều này ảnh hưởng rất lớn đến cuộc sống của nam giới, nếu không được điều trị sớm, nam giới có nguy cơ đối mặt với những biến chứng nguy hiểm như: rối loạn cương dương, gây liệt dương, thậm chí dẫn đến vô sinh. Xuất tinh sớm thường có 4 dạng là nguyên phát (thời gian xuất tinh ngắn xảy ra ngay từ những lần đầu giao hợp và kéo dài cho tới hiện tại), thứ phát (thời gian xuất tinh bình thường, nhưng thời gian gây đây có giảm đáng kể ảnh và ảnh hưởng tới tâm lý và quan hệ cặp đôi), xuất tinh sớm thay đổi (thời gian xuất tinh thay đổi tùy thuộc vào hoàn cảnh, đối tác, kích thích…) và các rối loạn xuất tinh giống <strong>xuất tinh sớm</strong>.\n",
    "\"\"\"\n",
    "\n",
    "\n",
    "result = await evaluator.aevaluate(\n",
    "    response=response.response,\n",
    "    reference=reference,\n",
    ")\n",
    "\n",
    "print(\"Score: \", result.score)\n",
    "print(\"Passing: \", result.passing)"
   ]
  }
 ],
 "metadata": {
  "kernelspec": {
   "display_name": "Python 3 (ipykernel)",
   "language": "python",
   "name": "python3"
  },
  "language_info": {
   "codemirror_mode": {
    "name": "ipython",
    "version": 3
   },
   "file_extension": ".py",
   "mimetype": "text/x-python",
   "name": "python",
   "nbconvert_exporter": "python",
   "pygments_lexer": "ipython3",
   "version": "3.9.18"
  },
  "widgets": {
   "application/vnd.jupyter.widget-state+json": {
    "state": {},
    "version_major": 2,
    "version_minor": 0
   }
  }
 },
 "nbformat": 4,
 "nbformat_minor": 5
}
