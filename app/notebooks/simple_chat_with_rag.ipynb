{
 "cells": [
  {
   "cell_type": "code",
   "execution_count": 1,
   "id": "4cf87bc5-99cf-45ea-9fbc-13a9cb64b957",
   "metadata": {},
   "outputs": [],
   "source": [
    "from dotenv import load_dotenv\n",
    "\n",
    "import openai\n",
    "import os\n",
    "load_dotenv()\n",
    "\n",
    "import logging\n",
    "import sys\n",
    "import os\n",
    "\n",
    "import numexpr as ne\n",
    "\n",
    "logging.basicConfig(stream=sys.stdout, level=logging.INFO)\n",
    "logging.getLogger().addHandler(logging.StreamHandler(stream=sys.stdout))\n",
    "openai.api_key = os.getenv('OPENAI_API_KEY')\n",
    "\n",
    "\n",
    "os.environ['NUMEXPR_MAX_THREADS'] = '4'\n",
    "os.environ['NUMEXPR_NUM_THREADS'] = '2'"
   ]
  },
  {
   "cell_type": "code",
   "execution_count": 2,
   "id": "714a69be-bbc3-48b6-a250-60bad76829f4",
   "metadata": {
    "scrolled": true
   },
   "outputs": [
    {
     "name": "stdout",
     "output_type": "stream",
     "text": [
      "INFO:llama_index.indices.loading:Loading all indices.\n",
      "Loading all indices.\n",
      "loading from disk\n"
     ]
    }
   ],
   "source": [
    "from llama_index import VectorStoreIndex, SimpleDirectoryReader, StorageContext, load_index_from_storage\n",
    "from llama_index.prompts import PromptTemplate\n",
    "\n",
    "try:\n",
    "    storage_context = StorageContext.from_defaults(persist_dir='../storage/cache/andrew/medical')\n",
    "    index = load_index_from_storage(storage_context)\n",
    "    print('loading from disk')\n",
    "except:\n",
    "    documents = SimpleDirectoryReader('../assets/AndrewHuberman/medical').load_data()\n",
    "    index = VectorStoreIndex.from_documents(documents)\n",
    "    index.storage_context.persist(persist_dir='../storage/cache/andrew/medical/')\n",
    "    print('persisting to disk')"
   ]
  },
  {
   "cell_type": "code",
   "execution_count": 3,
   "id": "7d3ac707-58dd-426e-8a4f-18ee3dc6e5a9",
   "metadata": {},
   "outputs": [],
   "source": [
    "openai.log = \"debug\"\n",
    "\n",
    "text_qa_template_str = (\n",
    "    \"Bạn là trợ lý của Andrew Huberman, người có thể đọc các ghi chú podcast của Andrew Huberman.\\n\"\n",
    "    \"Luôn trả lời truy vấn chỉ bằng cách sử dụng thông tin ngữ cảnh được cung cấp, \"\n",
    "    \"chứ không phải kiến ​​thức sẵn có.\\n\"\n",
    "    \"Một số quy tắc cần tuân theo:\\n\"\n",
    "    \"1. Không bao giờ tham khảo trực tiếp bối cảnh nhất định trong câu trả lời của bạn.\\n\"\n",
    "    \"2. Tránh những câu như 'Dựa trên ngữ cảnh, ...' hoặc \"\n",
    "    \"'Thông tin ngữ cảnh ...' hoặc bất cứ điều gì cùng\"\n",
    "    \"những dòng đó.\"\n",
    "    \"3.Câu trả lời nên thật chi tiết và dài\"\n",
    "    \"Thông tin bối cảnh dưới đây.\\n\"\n",
    "    \"---------------------\\n\"\n",
    "    \"{context_str}\\n\"\n",
    "    \"---------------------\\n\"\n",
    "    \"Trả lời câu hỏi:{query_str}\\n\"\n",
    ")\n",
    "\n",
    "text_qa_template = PromptTemplate(text_qa_template_str)"
   ]
  },
  {
   "cell_type": "code",
   "execution_count": 4,
   "id": "e9eda5ac",
   "metadata": {},
   "outputs": [
    {
     "name": "stderr",
     "output_type": "stream",
     "text": [
      "Some weights of MPNetForSequenceClassification were not initialized from the model checkpoint at sentence-transformers/all-mpnet-base-v2 and are newly initialized: ['classifier.out_proj.weight', 'classifier.out_proj.bias', 'classifier.dense.bias', 'classifier.dense.weight']\n",
      "You should probably TRAIN this model on a down-stream task to be able to use it for predictions and inference.\n"
     ]
    }
   ],
   "source": [
    "from llama_index.postprocessor import SentenceTransformerRerank\n",
    "\n",
    "rerank = SentenceTransformerRerank(\n",
    "    model=\"sentence-transformers/all-mpnet-base-v2\", top_n=3\n",
    ")"
   ]
  },
  {
   "cell_type": "code",
   "execution_count": 5,
   "id": "53fb503d",
   "metadata": {},
   "outputs": [],
   "source": [
    "from time import time\n",
    "\n",
    "query_engine = index.as_query_engine(\n",
    "    similarity_top_k=10,\n",
    "    node_postprocessors=[rerank],\n",
    "    text_qa_template = text_qa_template\n",
    ")"
   ]
  },
  {
   "cell_type": "code",
   "execution_count": null,
   "id": "8dda98f8",
   "metadata": {},
   "outputs": [],
   "source": [
    "now = time()\n",
    "response = query_engine.query(\n",
    "    \"Bệnh bạch hầu là gì?\",\n",
    ")\n",
    "print(f\"Elapsed: {round(time() - now, 2)}s\")"
   ]
  },
  {
   "cell_type": "code",
   "execution_count": null,
   "id": "193b913e",
   "metadata": {},
   "outputs": [],
   "source": [
    "print(response)"
   ]
  },
  {
   "cell_type": "code",
   "execution_count": null,
   "id": "39f1dbf2",
   "metadata": {},
   "outputs": [],
   "source": [
    "print(response.get_formatted_sources(length=1000))"
   ]
  },
  {
   "cell_type": "code",
   "execution_count": null,
   "id": "f91413e9-69dc-48c0-a865-01719262ffb3",
   "metadata": {
    "scrolled": true
   },
   "outputs": [],
   "source": [
    "print(response.metadata)"
   ]
  },
  {
   "cell_type": "code",
   "execution_count": null,
   "id": "a804e95a",
   "metadata": {},
   "outputs": [],
   "source": [
    "response.response"
   ]
  },
  {
   "cell_type": "markdown",
   "id": "7adcd10f",
   "metadata": {},
   "source": [
    "# 2. Đánh giá RAG"
   ]
  },
  {
   "cell_type": "code",
   "execution_count": 6,
   "id": "ba7e46b0",
   "metadata": {},
   "outputs": [
    {
     "data": {
      "text/html": [
       "<div>\n",
       "<style scoped>\n",
       "    .dataframe tbody tr th:only-of-type {\n",
       "        vertical-align: middle;\n",
       "    }\n",
       "\n",
       "    .dataframe tbody tr th {\n",
       "        vertical-align: top;\n",
       "    }\n",
       "\n",
       "    .dataframe thead th {\n",
       "        text-align: right;\n",
       "    }\n",
       "</style>\n",
       "<table border=\"1\" class=\"dataframe\">\n",
       "  <thead>\n",
       "    <tr style=\"text-align: right;\">\n",
       "      <th></th>\n",
       "      <th>Questions</th>\n",
       "      <th>References</th>\n",
       "      <th>Level</th>\n",
       "    </tr>\n",
       "  </thead>\n",
       "  <tbody>\n",
       "    <tr>\n",
       "      <th>0</th>\n",
       "      <td>Ăn không tiêu là bệnh gì?</td>\n",
       "      <td>&lt;em&gt;&lt;strong&gt;Ăn không tiêu&lt;/strong&gt; là tình trạ...</td>\n",
       "      <td>1.0</td>\n",
       "    </tr>\n",
       "    <tr>\n",
       "      <th>1</th>\n",
       "      <td>Cách chữa bệnh ăn không tiêu?</td>\n",
       "      <td>&lt;h2&gt;&lt;strong&gt;Cách chữa ăn không tiêu&lt;/strong&gt;&lt;/...</td>\n",
       "      <td>NaN</td>\n",
       "    </tr>\n",
       "    <tr>\n",
       "      <th>2</th>\n",
       "      <td>Bệnh cúm là bệnh gì?</td>\n",
       "      <td>&lt;h2&gt;&lt;strong&gt;Bệnh cúm là gì?&lt;/strong&gt;&lt;/h2&gt; &lt;str...</td>\n",
       "      <td>NaN</td>\n",
       "    </tr>\n",
       "    <tr>\n",
       "      <th>3</th>\n",
       "      <td>Bệnh cúm có các triệu chứng gì?</td>\n",
       "      <td>&lt;h2&gt;&lt;strong&gt;Triệu chứng cúm&lt;/strong&gt;&lt;/h2&gt; Cúm ...</td>\n",
       "      <td>NaN</td>\n",
       "    </tr>\n",
       "    <tr>\n",
       "      <th>4</th>\n",
       "      <td>Trĩ ngoại có bao nhiêu cấp độ?</td>\n",
       "      <td>&lt;/h3&gt; Trĩ ngoại là tình trạng búi trĩ phát tri...</td>\n",
       "      <td>NaN</td>\n",
       "    </tr>\n",
       "  </tbody>\n",
       "</table>\n",
       "</div>"
      ],
      "text/plain": [
       "                         Questions  \\\n",
       "0        Ăn không tiêu là bệnh gì?   \n",
       "1    Cách chữa bệnh ăn không tiêu?   \n",
       "2            Bệnh cúm là bệnh gì?    \n",
       "3  Bệnh cúm có các triệu chứng gì?   \n",
       "4   Trĩ ngoại có bao nhiêu cấp độ?   \n",
       "\n",
       "                                          References  Level  \n",
       "0  <em><strong>Ăn không tiêu</strong> là tình trạ...    1.0  \n",
       "1  <h2><strong>Cách chữa ăn không tiêu</strong></...    NaN  \n",
       "2  <h2><strong>Bệnh cúm là gì?</strong></h2> <str...    NaN  \n",
       "3  <h2><strong>Triệu chứng cúm</strong></h2> Cúm ...    NaN  \n",
       "4  </h3> Trĩ ngoại là tình trạng búi trĩ phát tri...    NaN  "
      ]
     },
     "execution_count": 6,
     "metadata": {},
     "output_type": "execute_result"
    }
   ],
   "source": [
    "import pandas as pd\n",
    "\n",
    "df = pd.read_csv('/Users/duongtrongchi/project/RAG/rag-app/test/test_case.csv')\n",
    "\n",
    "df.head()"
   ]
  },
  {
   "cell_type": "code",
   "execution_count": 12,
   "id": "5e3d6140",
   "metadata": {},
   "outputs": [
    {
     "name": "stdout",
     "output_type": "stream",
     "text": [
      "INFO:httpx:HTTP Request: POST https://api.openai.com/v1/embeddings \"HTTP/1.1 200 OK\"\n",
      "HTTP Request: POST https://api.openai.com/v1/embeddings \"HTTP/1.1 200 OK\"\n"
     ]
    },
    {
     "data": {
      "application/vnd.jupyter.widget-view+json": {
       "model_id": "a70134b93a5e43c58f65765221fc16f1",
       "version_major": 2,
       "version_minor": 0
      },
      "text/plain": [
       "Batches:   0%|          | 0/1 [00:00<?, ?it/s]"
      ]
     },
     "metadata": {},
     "output_type": "display_data"
    },
    {
     "name": "stdout",
     "output_type": "stream",
     "text": [
      "INFO:httpx:HTTP Request: POST https://api.openai.com/v1/chat/completions \"HTTP/1.1 200 OK\"\n",
      "HTTP Request: POST https://api.openai.com/v1/chat/completions \"HTTP/1.1 200 OK\"\n",
      "INFO:httpx:HTTP Request: POST https://api.openai.com/v1/embeddings \"HTTP/1.1 200 OK\"\n",
      "HTTP Request: POST https://api.openai.com/v1/embeddings \"HTTP/1.1 200 OK\"\n",
      "INFO:httpx:HTTP Request: POST https://api.openai.com/v1/embeddings \"HTTP/1.1 200 OK\"\n",
      "HTTP Request: POST https://api.openai.com/v1/embeddings \"HTTP/1.1 200 OK\"\n",
      "INFO:httpx:HTTP Request: POST https://api.openai.com/v1/embeddings \"HTTP/1.1 200 OK\"\n",
      "HTTP Request: POST https://api.openai.com/v1/embeddings \"HTTP/1.1 200 OK\"\n"
     ]
    },
    {
     "data": {
      "application/vnd.jupyter.widget-view+json": {
       "model_id": "efdb30336b214ce0a85f926c629cc9e6",
       "version_major": 2,
       "version_minor": 0
      },
      "text/plain": [
       "Batches:   0%|          | 0/1 [00:00<?, ?it/s]"
      ]
     },
     "metadata": {},
     "output_type": "display_data"
    },
    {
     "name": "stdout",
     "output_type": "stream",
     "text": [
      "INFO:httpx:HTTP Request: POST https://api.openai.com/v1/chat/completions \"HTTP/1.1 200 OK\"\n",
      "HTTP Request: POST https://api.openai.com/v1/chat/completions \"HTTP/1.1 200 OK\"\n",
      "INFO:httpx:HTTP Request: POST https://api.openai.com/v1/embeddings \"HTTP/1.1 200 OK\"\n",
      "HTTP Request: POST https://api.openai.com/v1/embeddings \"HTTP/1.1 200 OK\"\n",
      "INFO:httpx:HTTP Request: POST https://api.openai.com/v1/embeddings \"HTTP/1.1 200 OK\"\n",
      "HTTP Request: POST https://api.openai.com/v1/embeddings \"HTTP/1.1 200 OK\"\n",
      "INFO:httpx:HTTP Request: POST https://api.openai.com/v1/embeddings \"HTTP/1.1 200 OK\"\n",
      "HTTP Request: POST https://api.openai.com/v1/embeddings \"HTTP/1.1 200 OK\"\n"
     ]
    },
    {
     "data": {
      "application/vnd.jupyter.widget-view+json": {
       "model_id": "5ea06226fa2c4ac6aa34ea47e757e128",
       "version_major": 2,
       "version_minor": 0
      },
      "text/plain": [
       "Batches:   0%|          | 0/1 [00:00<?, ?it/s]"
      ]
     },
     "metadata": {},
     "output_type": "display_data"
    },
    {
     "name": "stdout",
     "output_type": "stream",
     "text": [
      "INFO:httpx:HTTP Request: POST https://api.openai.com/v1/chat/completions \"HTTP/1.1 200 OK\"\n",
      "HTTP Request: POST https://api.openai.com/v1/chat/completions \"HTTP/1.1 200 OK\"\n",
      "INFO:httpx:HTTP Request: POST https://api.openai.com/v1/embeddings \"HTTP/1.1 200 OK\"\n",
      "HTTP Request: POST https://api.openai.com/v1/embeddings \"HTTP/1.1 200 OK\"\n",
      "INFO:httpx:HTTP Request: POST https://api.openai.com/v1/embeddings \"HTTP/1.1 200 OK\"\n",
      "HTTP Request: POST https://api.openai.com/v1/embeddings \"HTTP/1.1 200 OK\"\n",
      "INFO:httpx:HTTP Request: POST https://api.openai.com/v1/embeddings \"HTTP/1.1 200 OK\"\n",
      "HTTP Request: POST https://api.openai.com/v1/embeddings \"HTTP/1.1 200 OK\"\n"
     ]
    },
    {
     "data": {
      "application/vnd.jupyter.widget-view+json": {
       "model_id": "9146f5484f6e473f9187499e1559be92",
       "version_major": 2,
       "version_minor": 0
      },
      "text/plain": [
       "Batches:   0%|          | 0/1 [00:00<?, ?it/s]"
      ]
     },
     "metadata": {},
     "output_type": "display_data"
    },
    {
     "name": "stdout",
     "output_type": "stream",
     "text": [
      "INFO:httpx:HTTP Request: POST https://api.openai.com/v1/chat/completions \"HTTP/1.1 200 OK\"\n",
      "HTTP Request: POST https://api.openai.com/v1/chat/completions \"HTTP/1.1 200 OK\"\n",
      "INFO:httpx:HTTP Request: POST https://api.openai.com/v1/embeddings \"HTTP/1.1 200 OK\"\n",
      "HTTP Request: POST https://api.openai.com/v1/embeddings \"HTTP/1.1 200 OK\"\n",
      "INFO:httpx:HTTP Request: POST https://api.openai.com/v1/embeddings \"HTTP/1.1 200 OK\"\n",
      "HTTP Request: POST https://api.openai.com/v1/embeddings \"HTTP/1.1 200 OK\"\n",
      "INFO:httpx:HTTP Request: POST https://api.openai.com/v1/embeddings \"HTTP/1.1 200 OK\"\n",
      "HTTP Request: POST https://api.openai.com/v1/embeddings \"HTTP/1.1 200 OK\"\n"
     ]
    },
    {
     "data": {
      "application/vnd.jupyter.widget-view+json": {
       "model_id": "d7ec1fcbf8ba4735a28415e2b1548f07",
       "version_major": 2,
       "version_minor": 0
      },
      "text/plain": [
       "Batches:   0%|          | 0/1 [00:00<?, ?it/s]"
      ]
     },
     "metadata": {},
     "output_type": "display_data"
    },
    {
     "name": "stdout",
     "output_type": "stream",
     "text": [
      "INFO:httpx:HTTP Request: POST https://api.openai.com/v1/chat/completions \"HTTP/1.1 200 OK\"\n",
      "HTTP Request: POST https://api.openai.com/v1/chat/completions \"HTTP/1.1 200 OK\"\n",
      "INFO:httpx:HTTP Request: POST https://api.openai.com/v1/embeddings \"HTTP/1.1 200 OK\"\n",
      "HTTP Request: POST https://api.openai.com/v1/embeddings \"HTTP/1.1 200 OK\"\n",
      "INFO:httpx:HTTP Request: POST https://api.openai.com/v1/embeddings \"HTTP/1.1 200 OK\"\n",
      "HTTP Request: POST https://api.openai.com/v1/embeddings \"HTTP/1.1 200 OK\"\n",
      "INFO:httpx:HTTP Request: POST https://api.openai.com/v1/embeddings \"HTTP/1.1 200 OK\"\n",
      "HTTP Request: POST https://api.openai.com/v1/embeddings \"HTTP/1.1 200 OK\"\n"
     ]
    },
    {
     "data": {
      "application/vnd.jupyter.widget-view+json": {
       "model_id": "b4af30d85d034c5eb1ca163af007fb1b",
       "version_major": 2,
       "version_minor": 0
      },
      "text/plain": [
       "Batches:   0%|          | 0/1 [00:00<?, ?it/s]"
      ]
     },
     "metadata": {},
     "output_type": "display_data"
    },
    {
     "name": "stdout",
     "output_type": "stream",
     "text": [
      "INFO:httpx:HTTP Request: POST https://api.openai.com/v1/chat/completions \"HTTP/1.1 200 OK\"\n",
      "HTTP Request: POST https://api.openai.com/v1/chat/completions \"HTTP/1.1 200 OK\"\n",
      "INFO:httpx:HTTP Request: POST https://api.openai.com/v1/embeddings \"HTTP/1.1 200 OK\"\n",
      "HTTP Request: POST https://api.openai.com/v1/embeddings \"HTTP/1.1 200 OK\"\n",
      "INFO:httpx:HTTP Request: POST https://api.openai.com/v1/embeddings \"HTTP/1.1 200 OK\"\n",
      "HTTP Request: POST https://api.openai.com/v1/embeddings \"HTTP/1.1 200 OK\"\n",
      "INFO:httpx:HTTP Request: POST https://api.openai.com/v1/embeddings \"HTTP/1.1 200 OK\"\n",
      "HTTP Request: POST https://api.openai.com/v1/embeddings \"HTTP/1.1 200 OK\"\n"
     ]
    },
    {
     "data": {
      "application/vnd.jupyter.widget-view+json": {
       "model_id": "6c12c3ee3f544c808ef713382ea4fb45",
       "version_major": 2,
       "version_minor": 0
      },
      "text/plain": [
       "Batches:   0%|          | 0/1 [00:00<?, ?it/s]"
      ]
     },
     "metadata": {},
     "output_type": "display_data"
    },
    {
     "name": "stdout",
     "output_type": "stream",
     "text": [
      "INFO:httpx:HTTP Request: POST https://api.openai.com/v1/chat/completions \"HTTP/1.1 200 OK\"\n",
      "HTTP Request: POST https://api.openai.com/v1/chat/completions \"HTTP/1.1 200 OK\"\n",
      "INFO:httpx:HTTP Request: POST https://api.openai.com/v1/embeddings \"HTTP/1.1 200 OK\"\n",
      "HTTP Request: POST https://api.openai.com/v1/embeddings \"HTTP/1.1 200 OK\"\n",
      "INFO:httpx:HTTP Request: POST https://api.openai.com/v1/embeddings \"HTTP/1.1 200 OK\"\n",
      "HTTP Request: POST https://api.openai.com/v1/embeddings \"HTTP/1.1 200 OK\"\n",
      "INFO:httpx:HTTP Request: POST https://api.openai.com/v1/embeddings \"HTTP/1.1 200 OK\"\n",
      "HTTP Request: POST https://api.openai.com/v1/embeddings \"HTTP/1.1 200 OK\"\n"
     ]
    },
    {
     "data": {
      "application/vnd.jupyter.widget-view+json": {
       "model_id": "42a4f6fcb1e64efba23eb322ebf8c6cc",
       "version_major": 2,
       "version_minor": 0
      },
      "text/plain": [
       "Batches:   0%|          | 0/1 [00:00<?, ?it/s]"
      ]
     },
     "metadata": {},
     "output_type": "display_data"
    },
    {
     "name": "stdout",
     "output_type": "stream",
     "text": [
      "INFO:httpx:HTTP Request: POST https://api.openai.com/v1/chat/completions \"HTTP/1.1 200 OK\"\n",
      "HTTP Request: POST https://api.openai.com/v1/chat/completions \"HTTP/1.1 200 OK\"\n",
      "INFO:httpx:HTTP Request: POST https://api.openai.com/v1/embeddings \"HTTP/1.1 200 OK\"\n",
      "HTTP Request: POST https://api.openai.com/v1/embeddings \"HTTP/1.1 200 OK\"\n",
      "INFO:httpx:HTTP Request: POST https://api.openai.com/v1/embeddings \"HTTP/1.1 200 OK\"\n",
      "HTTP Request: POST https://api.openai.com/v1/embeddings \"HTTP/1.1 200 OK\"\n"
     ]
    }
   ],
   "source": [
    "from llama_index.evaluation import SemanticSimilarityEvaluator\n",
    "from llama_index.embeddings import SimilarityMode\n",
    "\n",
    "\n",
    "evaluator = SemanticSimilarityEvaluator(\n",
    "    similarity_mode=SimilarityMode.DEFAULT,\n",
    "    similarity_threshold=0.9,\n",
    ")\n",
    "\n",
    "list_res = []\n",
    "list_result = []\n",
    "passed = []\n",
    "for i in range(0, len(df)):\n",
    "    reference = df['References'][i]\n",
    "    response = query_engine.query(df['Questions'][i])\n",
    "\n",
    "    result = await evaluator.aevaluate(\n",
    "        response=response.response,\n",
    "        reference=reference,\n",
    "    )\n",
    "\n",
    "    list_res.append(response.response)\n",
    "    list_result.append(result.score)\n",
    "    passed.append(result.passing)\n"
   ]
  },
  {
   "cell_type": "code",
   "execution_count": 9,
   "id": "d410d041",
   "metadata": {},
   "outputs": [],
   "source": [
    "df['Result'] = list_result\n",
    "df['Passed'] = passed\n",
    "df['Responses'] = list_res"
   ]
  },
  {
   "cell_type": "code",
   "execution_count": 11,
   "id": "bc73f281",
   "metadata": {},
   "outputs": [],
   "source": [
    "df.to_csv('../results.csv', index=False)"
   ]
  },
  {
   "cell_type": "code",
   "execution_count": null,
   "id": "4b205fe9",
   "metadata": {},
   "outputs": [],
   "source": [
    "# Embedding Similarity Evaluator\n",
    "\n",
    "# from llama_index.evaluation import SemanticSimilarityEvaluator\n",
    "# from llama_index.embeddings import SimilarityMode\n",
    "\n",
    "\n",
    "# evaluator = SemanticSimilarityEvaluator(\n",
    "#     similarity_mode=SimilarityMode.DEFAULT,\n",
    "#     similarity_threshold=0.9,\n",
    "# )\n",
    "\n",
    "# reference = \"\"\"\n",
    "#  <b>Bệnh bạch hầu là gì?</b> Bệnh bạch hầu là bệnh nhiễm khuẩn cấp tính có giả mạc ở tuyến hạnh nhân, hầu họng, thanh quản, mũi. Bệnh có thể xuất hiện ở da, các màng niêm mạc khác như kết mạc mắt hoặc bộ phận sinh dục. Đây là một bệnh vừa nhiễm trùng vừa nhiễm độc và các tổn thương nghiêm trọng của bệnh chủ yếu là do ngoại độc tố của vi khuẩn bạch hầu gây ra.\n",
    "# \"\"\"\n",
    "\n",
    "# response = query_engine.query(\n",
    "#     \"Bệnh bạch hầu là gì?\",\n",
    "# )\n",
    "\n",
    "# result = await evaluator.aevaluate(\n",
    "#     response=response.response,\n",
    "#     reference=reference,\n",
    "# )\n",
    "\n",
    "# print(\"Score: \", result.score)\n",
    "# print(\"Passing: \", result.passing)"
   ]
  }
 ],
 "metadata": {
  "kernelspec": {
   "display_name": "Python 3 (ipykernel)",
   "language": "python",
   "name": "python3"
  },
  "language_info": {
   "codemirror_mode": {
    "name": "ipython",
    "version": 3
   },
   "file_extension": ".py",
   "mimetype": "text/x-python",
   "name": "python",
   "nbconvert_exporter": "python",
   "pygments_lexer": "ipython3",
   "version": "3.9.18"
  },
  "widgets": {
   "application/vnd.jupyter.widget-state+json": {
    "state": {},
    "version_major": 2,
    "version_minor": 0
   }
  }
 },
 "nbformat": 4,
 "nbformat_minor": 5
}
